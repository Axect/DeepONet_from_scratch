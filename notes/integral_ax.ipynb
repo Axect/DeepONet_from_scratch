{
 "cells": [
  {
   "cell_type": "code",
   "execution_count": 1,
   "id": "e927dd21-ed81-416a-bc44-44af7c15f038",
   "metadata": {},
   "outputs": [],
   "source": [
    "# PyTorch\n",
    "import torch\n",
    "from torch import nn, optim\n",
    "import torch.nn.functional as F\n",
    "from torch.utils.data import Dataset, DataLoader\n",
    "\n",
    "# Scheduler - OneCycleLR, CosineAnnealingLR\n",
    "from torch.optim.lr_scheduler import OneCycleLR, CosineAnnealingLR\n",
    "\n",
    "# PyTorch Lightning\n",
    "import lightning as L\n",
    "\n",
    "# wandb\n",
    "import wandb\n",
    "\n",
    "# Ax - Hyperparameter Optimization\n",
    "from ax.service.ax_client import AxClient, ObjectiveProperties\n",
    "from ax.service.utils.report_utils import exp_to_df\n",
    "from ax.utils.notebook.plotting import init_notebook_plotting, render\n",
    "\n",
    "# Split the data into training and test sets\n",
    "from sklearn.model_selection import train_test_split\n",
    "\n",
    "import matplotlib.pyplot as plt\n",
    "import numpy as np\n",
    "import polars as pl"
   ]
  },
  {
   "cell_type": "code",
   "execution_count": 2,
   "id": "14c5f588",
   "metadata": {},
   "outputs": [],
   "source": [
    "import os\n",
    "os.environ[\"WANDB_SILENT\"] = \"true\"\n",
    "\n",
    "import warnings\n",
    "warnings.filterwarnings('ignore')"
   ]
  },
  {
   "cell_type": "code",
   "execution_count": 3,
   "id": "e28d3086",
   "metadata": {},
   "outputs": [
    {
     "name": "stderr",
     "output_type": "stream",
     "text": [
      "Seed set to 42\n"
     ]
    },
    {
     "data": {
      "text/plain": [
       "42"
      ]
     },
     "execution_count": 3,
     "metadata": {},
     "output_type": "execute_result"
    }
   ],
   "source": [
    "L.seed_everything(42)"
   ]
  },
  {
   "cell_type": "code",
   "execution_count": 4,
   "id": "e5e31268-5fc0-4b17-b212-5f4006207887",
   "metadata": {},
   "outputs": [],
   "source": [
    "df_grf = pl.read_parquet(\"../data/grf.parquet\")\n",
    "df_grf_int = pl.read_parquet(\"../data/grf_int.parquet\")"
   ]
  },
  {
   "cell_type": "code",
   "execution_count": 5,
   "id": "b658436a",
   "metadata": {},
   "outputs": [
    {
     "data": {
      "text/plain": [
       "10000"
      ]
     },
     "execution_count": 5,
     "metadata": {},
     "output_type": "execute_result"
    }
   ],
   "source": [
    "n_samples = df_grf[\"group\"].n_unique()\n",
    "n_samples"
   ]
  },
  {
   "cell_type": "code",
   "execution_count": 6,
   "id": "0da6d7da-2ba6-4624-85dd-05335b850f9b",
   "metadata": {},
   "outputs": [
    {
     "name": "stdout",
     "output_type": "stream",
     "text": [
      "shape: (10_000_000, 3)\n",
      "┌───────┬──────────┬───────┐\n",
      "│ x     ┆ grf      ┆ group │\n",
      "│ ---   ┆ ---      ┆ ---   │\n",
      "│ f64   ┆ f64      ┆ u64   │\n",
      "╞═══════╪══════════╪═══════╡\n",
      "│ 0.0   ┆ 0.201082 ┆ 0     │\n",
      "│ 0.001 ┆ 0.201827 ┆ 0     │\n",
      "│ 0.002 ┆ 0.202477 ┆ 0     │\n",
      "│ 0.003 ┆ 0.203033 ┆ 0     │\n",
      "│ 0.004 ┆ 0.203495 ┆ 0     │\n",
      "│ …     ┆ …        ┆ …     │\n",
      "│ 0.996 ┆ 0.304625 ┆ 9999  │\n",
      "│ 0.997 ┆ 0.303263 ┆ 9999  │\n",
      "│ 0.998 ┆ 0.301747 ┆ 9999  │\n",
      "│ 0.999 ┆ 0.300075 ┆ 9999  │\n",
      "│ 1.0   ┆ 0.298249 ┆ 9999  │\n",
      "└───────┴──────────┴───────┘ shape: (1_000_000, 3)\n",
      "┌──────┬───────────┬───────┐\n",
      "│ y    ┆ grf_int   ┆ group │\n",
      "│ ---  ┆ ---       ┆ ---   │\n",
      "│ f64  ┆ f64       ┆ u64   │\n",
      "╞══════╪═══════════╪═══════╡\n",
      "│ 0.0  ┆ 0.0       ┆ 0     │\n",
      "│ 0.01 ┆ 0.002035  ┆ 0     │\n",
      "│ 0.02 ┆ 0.004055  ┆ 0     │\n",
      "│ 0.03 ┆ 0.005968  ┆ 0     │\n",
      "│ 0.04 ┆ 0.007688  ┆ 0     │\n",
      "│ …    ┆ …         ┆ …     │\n",
      "│ 0.96 ┆ -0.005045 ┆ 9999  │\n",
      "│ 0.97 ┆ -0.00228  ┆ 9999  │\n",
      "│ 0.98 ┆ 0.000709  ┆ 9999  │\n",
      "│ 0.99 ┆ 0.0038    ┆ 9999  │\n",
      "│ 1.0  ┆ 0.006852  ┆ 9999  │\n",
      "└──────┴───────────┴───────┘\n"
     ]
    }
   ],
   "source": [
    "print(df_grf, df_grf_int)"
   ]
  },
  {
   "cell_type": "code",
   "execution_count": 7,
   "id": "88448709",
   "metadata": {},
   "outputs": [
    {
     "name": "stdout",
     "output_type": "stream",
     "text": [
      "shape: (1_000_000, 3)\n",
      "┌──────┬──────────┬───────┐\n",
      "│ x    ┆ grf      ┆ group │\n",
      "│ ---  ┆ ---      ┆ ---   │\n",
      "│ f64  ┆ f64      ┆ u64   │\n",
      "╞══════╪══════════╪═══════╡\n",
      "│ 0.0  ┆ 0.201082 ┆ 0     │\n",
      "│ 0.01 ┆ 0.204293 ┆ 0     │\n",
      "│ 0.02 ┆ 0.198184 ┆ 0     │\n",
      "│ 0.03 ┆ 0.183089 ┆ 0     │\n",
      "│ 0.04 ┆ 0.15959  ┆ 0     │\n",
      "│ …    ┆ …        ┆ …     │\n",
      "│ 0.96 ┆ 0.261699 ┆ 9999  │\n",
      "│ 0.97 ┆ 0.289567 ┆ 9999  │\n",
      "│ 0.98 ┆ 0.306218 ┆ 9999  │\n",
      "│ 0.99 ┆ 0.309601 ┆ 9999  │\n",
      "│ 1.0  ┆ 0.298249 ┆ 9999  │\n",
      "└──────┴──────────┴───────┘\n"
     ]
    }
   ],
   "source": [
    "df_grf = df_grf.filter(pl.col(\"x\").is_in([round(x * 0.01, 2) for x in range(101)]))\n",
    "print(df_grf)"
   ]
  },
  {
   "cell_type": "code",
   "execution_count": 8,
   "id": "50950f6c-60cf-47e2-89ba-df8d606ef3f0",
   "metadata": {},
   "outputs": [
    {
     "name": "stdout",
     "output_type": "stream",
     "text": [
      "x: (100,), y: (10000, 100)\n",
      "grfs: (10000, 100), grf_ints: (10000, 100)\n"
     ]
    }
   ],
   "source": [
    "x = df_grf.filter(pl.col(\"group\") == 0)[\"x\"].to_numpy()\n",
    "y = df_grf_int.group_by(\"group\", maintain_order=True).agg(pl.col(\"y\"))[\"y\"].explode().to_numpy().reshape(n_samples, -1)\n",
    "grfs = df_grf.group_by(\"group\", maintain_order=True).agg(pl.col(\"grf\"))[\"grf\"].explode().to_numpy().reshape(n_samples, -1)\n",
    "grf_ints = df_grf_int.group_by(\"group\", maintain_order=True).agg(pl.col(\"grf_int\"))[\"grf_int\"].explode().to_numpy().reshape(n_samples, -1)\n",
    "\n",
    "y = y.astype(np.float32)\n",
    "grfs = grfs.astype(np.float32)\n",
    "grf_ints = grf_ints.astype(np.float32)\n",
    "\n",
    "print(f\"x: {x.shape}, y: {y.shape}\")\n",
    "print(f\"grfs: {grfs.shape}, grf_ints: {grf_ints.shape}\")"
   ]
  },
  {
   "cell_type": "markdown",
   "id": "22206689",
   "metadata": {},
   "source": [
    "## DeepONet from Scratch"
   ]
  },
  {
   "cell_type": "markdown",
   "id": "29d5525f",
   "metadata": {},
   "source": [
    "$$\n",
    "G: u \\in C[\\mathcal{D}] \\rightarrow G(u) \\in C[\\mathcal{R}] \\quad \\text{where } \\mathcal{D}, \\mathcal{R} \\text{ are compact}\n",
    "$$\n",
    "$$\n",
    "u(x) \\overset{G}{\\longrightarrow} G(u)(y) = \\int_0^y u(x) dx\n",
    "$$"
   ]
  },
  {
   "cell_type": "code",
   "execution_count": 9,
   "id": "4a671568",
   "metadata": {},
   "outputs": [],
   "source": [
    "n_train = int(0.8 * n_samples)\n",
    "n_val = int(0.1 * n_samples)\n",
    "n_test = n_samples - n_train - n_val\n",
    "\n",
    "grf_train = grfs[:n_train]\n",
    "grf_val = grfs[n_train:n_train + n_val]\n",
    "grf_test = grfs[n_train + n_val:]\n",
    "\n",
    "y_train = y[:n_train]\n",
    "y_val = y[n_train:n_train + n_val]\n",
    "y_test = y[n_train + n_val:]\n",
    "\n",
    "grf_int_train = grf_ints[:n_train]\n",
    "grf_int_val = grf_ints[n_train:n_train + n_val]\n",
    "grf_int_test = grf_ints[n_train + n_val:]"
   ]
  },
  {
   "cell_type": "code",
   "execution_count": 10,
   "id": "a5b156b0",
   "metadata": {},
   "outputs": [],
   "source": [
    "class IntegralData(Dataset):\n",
    "    def __init__(self, grf, y, grf_int):\n",
    "        self.grf = torch.tensor(grf)\n",
    "        self.y = torch.tensor(y)\n",
    "        self.grf_int = torch.tensor(grf_int)\n",
    "\n",
    "    def __len__(self):\n",
    "        return len(self.grf)\n",
    "\n",
    "    def __getitem__(self, idx):\n",
    "        return self.grf[idx], self.y[idx], self.grf_int[idx]"
   ]
  },
  {
   "cell_type": "code",
   "execution_count": 11,
   "id": "5033bacf",
   "metadata": {},
   "outputs": [],
   "source": [
    "ds_train = IntegralData(grf_train, y_train, grf_int_train)\n",
    "ds_val = IntegralData(grf_val, y_val, grf_int_val)\n",
    "ds_test = IntegralData(grf_test, y_test, grf_int_test)"
   ]
  },
  {
   "cell_type": "code",
   "execution_count": 12,
   "id": "6f148ef5",
   "metadata": {},
   "outputs": [],
   "source": [
    "class DeepONetScratch(nn.Module):\n",
    "    def __init__(self, hparams):\n",
    "        super().__init__()\n",
    "        \n",
    "        num_input = hparams[\"num_input\"]\n",
    "        num_branch = hparams[\"num_branch\"]\n",
    "        num_output = hparams[\"num_output\"]\n",
    "        dim_output = hparams[\"dim_output\"]\n",
    "        hidden_size = hparams[\"hidden_size\"]\n",
    "        hidden_depth = hparams[\"hidden_depth\"]\n",
    "\n",
    "        branch_net = [nn.Linear(num_input, hidden_size), nn.GELU()]\n",
    "        for i in range(hidden_depth-1):\n",
    "            branch_net.append(nn.Linear(hidden_size, hidden_size))\n",
    "            branch_net.append(nn.GELU())\n",
    "        branch_net.append(nn.Linear(hidden_size, num_branch))\n",
    "        self.branch_net = nn.Sequential(*branch_net)\n",
    "\n",
    "        trunk_net = [nn.Linear(dim_output, hidden_size), nn.GELU()]\n",
    "        for _ in range(hidden_depth-1):\n",
    "            trunk_net.append(nn.Linear(hidden_size, hidden_size))\n",
    "            trunk_net.append(nn.GELU())\n",
    "        trunk_net.append(nn.Linear(hidden_size, num_branch))\n",
    "        self.trunk_net = nn.Sequential(*trunk_net)\n",
    "        \n",
    "        self.bias = nn.Parameter(torch.randn(num_output), requires_grad=True)\n",
    "\n",
    "    def forward(self, u, y):\n",
    "        l = y.shape[1]\n",
    "        branch_out = self.branch_net(u)\n",
    "        trunk_out = torch.stack([self.trunk_net(y[:, i:i+1]) for i in range(l)], dim=2)\n",
    "        pred = torch.einsum(\"bp,bpl->bl\", branch_out, trunk_out) + self.bias\n",
    "        return pred"
   ]
  },
  {
   "cell_type": "code",
   "execution_count": 13,
   "id": "ba224ee6",
   "metadata": {},
   "outputs": [],
   "source": [
    "def train(model, optimizer, scheduler, train_loader, val_loader, epochs, device):\n",
    "    model.to(device)\n",
    "    \n",
    "    for epoch in range(epochs):\n",
    "        model.train()\n",
    "        train_loss = 0\n",
    "        for u, y, Guy in train_loader:\n",
    "            u, y, Guy = u.to(device), y.to(device), Guy.to(device)\n",
    "            optimizer.zero_grad()\n",
    "            pred = model(u, y)\n",
    "            loss = F.mse_loss(pred, Guy)\n",
    "            loss.backward()\n",
    "            optimizer.step()\n",
    "            train_loss += loss.item()\n",
    "        train_loss /= len(train_loader)\n",
    "        \n",
    "        model.eval()\n",
    "        val_loss = 0\n",
    "        with torch.no_grad():\n",
    "            for u, y, Guy in val_loader:\n",
    "                u, y, Guy = u.to(device), y.to(device), Guy.to(device)\n",
    "                pred = model(u, y)\n",
    "                loss = F.mse_loss(pred, Guy)\n",
    "                val_loss += loss.item()\n",
    "        val_loss /= len(val_loader)\n",
    "        \n",
    "        scheduler.step()\n",
    "\n",
    "        wandb.log({\"train_loss\": train_loss, \"val_loss\": val_loss, \"epoch\": epoch+1})"
   ]
  },
  {
   "cell_type": "code",
   "execution_count": 14,
   "id": "acdd49bc",
   "metadata": {},
   "outputs": [],
   "source": [
    "def evaluate(model, test_loader, device):\n",
    "    model.eval()\n",
    "    test_loss = 0\n",
    "    with torch.no_grad():\n",
    "        for u, y, Guy in test_loader:\n",
    "            u, y, Guy = u.to(device), y.to(device), Guy.to(device)\n",
    "            pred = model(u, y)\n",
    "            loss = F.mse_loss(pred, Guy)\n",
    "            test_loss += loss.item()\n",
    "    test_loss /= len(test_loader)\n",
    "    return test_loss"
   ]
  },
  {
   "cell_type": "code",
   "execution_count": 15,
   "id": "1146eb66",
   "metadata": {},
   "outputs": [],
   "source": [
    "dl_train = DataLoader(ds_train, batch_size=500, shuffle=True)\n",
    "dl_val = DataLoader(ds_val, batch_size=500)\n",
    "dl_test = DataLoader(ds_test, batch_size=500)"
   ]
  },
  {
   "cell_type": "markdown",
   "id": "b5561304",
   "metadata": {},
   "source": [
    "## Ax for hyperparameter tuning"
   ]
  },
  {
   "cell_type": "code",
   "execution_count": 16,
   "id": "b6a1ab3a",
   "metadata": {},
   "outputs": [
    {
     "name": "stdout",
     "output_type": "stream",
     "text": [
      "cuda\n"
     ]
    }
   ],
   "source": [
    "device = torch.device(\"cuda\" if torch.cuda.is_available() else \"cpu\")\n",
    "print(device)\n",
    "\n",
    "def evaluate_model(parameters):\n",
    "    hparams = {\n",
    "        \"num_input\": parameters.get(\"num_input\", 100),\n",
    "        \"num_branch\": parameters.get(\"num_branch\", 10),\n",
    "        \"num_output\": parameters.get(\"num_output\", 100),\n",
    "        \"dim_output\": parameters.get(\"dim_output\", 1),\n",
    "        \"hidden_size\": parameters.get(\"hidden_size\", 40),\n",
    "        \"hidden_depth\": parameters.get(\"hidden_depth\", 3),\n",
    "        \"learning_rate\": parameters.get(\"learning_rate\", 1e-2),\n",
    "        \"batch_size\": parameters.get(\"batch_size\", 500),\n",
    "        \"epochs\": parameters.get(\"epochs\", 200)\n",
    "    }\n",
    "    model = DeepONetScratch(hparams)\n",
    "    \n",
    "    wandb.init(project=\"DeepONet\", config=hparams)\n",
    "    \n",
    "    optimizer = optim.Adam(model.parameters(), lr=hparams[\"learning_rate\"])\n",
    "    scheduler = OneCycleLR(optimizer, max_lr=hparams[\"learning_rate\"], epochs=hparams[\"epochs\"], steps_per_epoch=len(dl_train) // hparams[\"batch_size\"] + 1)\n",
    "    train(model, optimizer, scheduler, dl_train, dl_val, hparams[\"epochs\"], device)\n",
    "    test_loss = evaluate(model, dl_test, device)\n",
    "    \n",
    "    wandb.log({\"test_loss\": test_loss})\n",
    "    wandb.finish()\n",
    "\n",
    "    print(test_loss)\n",
    "    \n",
    "    return test_loss * 1e+5"
   ]
  },
  {
   "cell_type": "code",
   "execution_count": 17,
   "id": "5a70b14a",
   "metadata": {},
   "outputs": [],
   "source": [
    "ax_client = AxClient(verbose_logging=False)"
   ]
  },
  {
   "cell_type": "code",
   "execution_count": 18,
   "id": "465d54d5",
   "metadata": {},
   "outputs": [
    {
     "name": "stderr",
     "output_type": "stream",
     "text": [
      "[INFO 03-23 23:44:06] ax.service.utils.instantiation: Inferred value type of ParameterType.FLOAT for parameter learning_rate. If that is not the expected value type, you can explicitly specify 'value_type' ('int', 'float', 'bool' or 'str') in parameter dict.\n",
      "[INFO 03-23 23:44:06] ax.service.utils.instantiation: Created search space: SearchSpace(parameters=[FixedParameter(name='num_input', parameter_type=INT, value=100), ChoiceParameter(name='num_branch', parameter_type=INT, values=[10, 20, 30, 40], is_ordered=True, sort_values=False), FixedParameter(name='num_output', parameter_type=INT, value=100), FixedParameter(name='dim_output', parameter_type=INT, value=1), ChoiceParameter(name='hidden_size', parameter_type=INT, values=[40, 80, 120, 160], is_ordered=True, sort_values=False), ChoiceParameter(name='hidden_depth', parameter_type=INT, values=[2, 3, 4], is_ordered=True, sort_values=False), RangeParameter(name='learning_rate', parameter_type=FLOAT, range=[0.001, 0.02], log_scale=True), FixedParameter(name='batch_size', parameter_type=INT, value=500), FixedParameter(name='epochs', parameter_type=INT, value=200)], parameter_constraints=[]).\n",
      "[INFO 03-23 23:44:06] ax.modelbridge.dispatch_utils: Using Models.BOTORCH_MODULAR since there is at least one ordered parameter and there are no unordered categorical parameters.\n",
      "[INFO 03-23 23:44:06] ax.modelbridge.dispatch_utils: Calculating the number of remaining initialization trials based on num_initialization_trials=None max_initialization_trials=None num_tunable_parameters=4 num_trials=None use_batch_trials=False\n",
      "[INFO 03-23 23:44:06] ax.modelbridge.dispatch_utils: calculated num_initialization_trials=8\n",
      "[INFO 03-23 23:44:06] ax.modelbridge.dispatch_utils: num_completed_initialization_trials=0 num_remaining_initialization_trials=8\n",
      "[INFO 03-23 23:44:06] ax.modelbridge.dispatch_utils: `verbose`, `disable_progbar`, and `jit_compile` are not yet supported when using `choose_generation_strategy` with ModularBoTorchModel, dropping these arguments.\n",
      "[INFO 03-23 23:44:06] ax.modelbridge.dispatch_utils: Using Bayesian Optimization generation strategy: GenerationStrategy(name='Sobol+BoTorch', steps=[Sobol for 8 trials, BoTorch for subsequent trials]). Iterations after 8 will take longer to generate due to model-fitting.\n"
     ]
    }
   ],
   "source": [
    "ax_client.create_experiment(\n",
    "    name=\"DeepONet-Tuning\",\n",
    "    parameters=[\n",
    "        {\n",
    "            \"name\": 'num_input',\n",
    "            \"type\": 'fixed',\n",
    "            \"value\": 100,\n",
    "        },\n",
    "        {\n",
    "            \"name\": 'num_branch',\n",
    "            \"type\": 'choice',\n",
    "            \"values\": [10, 20, 30, 40],\n",
    "            \"value_type\": \"int\",\n",
    "            \"is_ordered\": True,\n",
    "            \"sort_values\": False,\n",
    "        },\n",
    "        {\n",
    "            \"name\": 'num_output',\n",
    "            \"type\": 'fixed',\n",
    "            \"value\": 100,\n",
    "        },\n",
    "        {\n",
    "            \"name\": 'dim_output',\n",
    "            \"type\": 'fixed',\n",
    "            \"value\": 1,\n",
    "        },\n",
    "        {\n",
    "            \"name\": 'hidden_size',\n",
    "            \"type\": 'choice',\n",
    "            \"values\": [40, 80, 120, 160],\n",
    "            \"value_type\": \"int\",\n",
    "            \"is_ordered\": True,\n",
    "            \"sort_values\": False,\n",
    "        },\n",
    "        {\n",
    "            \"name\": 'hidden_depth',\n",
    "            \"type\": 'choice',\n",
    "            \"values\": [2, 3, 4],\n",
    "            \"value_type\": \"int\",\n",
    "            \"is_ordered\": True,\n",
    "            \"sort_values\": False,\n",
    "        },\n",
    "        {\n",
    "            \"name\": 'learning_rate',\n",
    "            \"type\": 'range',\n",
    "            \"bounds\": [1e-3, 2e-2],\n",
    "            \"log_scale\": True,\n",
    "        },\n",
    "        {\n",
    "            \"name\": 'batch_size',\n",
    "            \"type\": 'fixed',\n",
    "            \"value\": 500,\n",
    "        },\n",
    "        {\n",
    "            \"name\": 'epochs',\n",
    "            \"type\": 'fixed',\n",
    "            \"value\": 200,\n",
    "        },\n",
    "    ],\n",
    "    objectives={\"evaluate_model\": ObjectiveProperties(minimize=True)},\n",
    ")"
   ]
  },
  {
   "cell_type": "code",
   "execution_count": 19,
   "id": "5f726005",
   "metadata": {},
   "outputs": [
    {
     "name": "stderr",
     "output_type": "stream",
     "text": [
      "wandb: WARNING Source type is set to 'repo' but some required information is missing from the environment. A job will not be created from this run. See https://docs.wandb.ai/guides/launch/create-job\n"
     ]
    },
    {
     "name": "stdout",
     "output_type": "stream",
     "text": [
      "6.29210376246192e-06\n"
     ]
    },
    {
     "data": {
      "application/vnd.jupyter.widget-view+json": {
       "model_id": "cc6f465e4ec14a2a8508b9868b769a33",
       "version_major": 2,
       "version_minor": 0
      },
      "text/plain": [
       "VBox(children=(Label(value='Waiting for wandb.init()...\\r'), FloatProgress(value=0.011112527833332327, max=1.0…"
      ]
     },
     "metadata": {},
     "output_type": "display_data"
    },
    {
     "name": "stderr",
     "output_type": "stream",
     "text": [
      "wandb: WARNING Source type is set to 'repo' but some required information is missing from the environment. A job will not be created from this run. See https://docs.wandb.ai/guides/launch/create-job\n"
     ]
    },
    {
     "name": "stdout",
     "output_type": "stream",
     "text": [
      "6.817745088483207e-05\n"
     ]
    },
    {
     "data": {
      "application/vnd.jupyter.widget-view+json": {
       "model_id": "61446d54754a435a9260709ff9fef813",
       "version_major": 2,
       "version_minor": 0
      },
      "text/plain": [
       "VBox(children=(Label(value='Waiting for wandb.init()...\\r'), FloatProgress(value=0.011112786022214197, max=1.0…"
      ]
     },
     "metadata": {},
     "output_type": "display_data"
    },
    {
     "name": "stderr",
     "output_type": "stream",
     "text": [
      "wandb: WARNING Source type is set to 'repo' but some required information is missing from the environment. A job will not be created from this run. See https://docs.wandb.ai/guides/launch/create-job\n"
     ]
    },
    {
     "name": "stdout",
     "output_type": "stream",
     "text": [
      "0.004368093563243747\n"
     ]
    },
    {
     "data": {
      "application/vnd.jupyter.widget-view+json": {
       "model_id": "0f84f3a549e14ad5a489cee19a75f10a",
       "version_major": 2,
       "version_minor": 0
      },
      "text/plain": [
       "VBox(children=(Label(value='Waiting for wandb.init()...\\r'), FloatProgress(value=0.01111267428889025, max=1.0)…"
      ]
     },
     "metadata": {},
     "output_type": "display_data"
    },
    {
     "name": "stderr",
     "output_type": "stream",
     "text": [
      "wandb: WARNING Source type is set to 'repo' but some required information is missing from the environment. A job will not be created from this run. See https://docs.wandb.ai/guides/launch/create-job\n"
     ]
    },
    {
     "name": "stdout",
     "output_type": "stream",
     "text": [
      "8.580368739785627e-05\n"
     ]
    },
    {
     "data": {
      "application/vnd.jupyter.widget-view+json": {
       "model_id": "d59cc03b4429491883316c0c342db2cf",
       "version_major": 2,
       "version_minor": 0
      },
      "text/plain": [
       "VBox(children=(Label(value='Waiting for wandb.init()...\\r'), FloatProgress(value=0.011113644022225344, max=1.0…"
      ]
     },
     "metadata": {},
     "output_type": "display_data"
    },
    {
     "name": "stderr",
     "output_type": "stream",
     "text": [
      "wandb: WARNING Source type is set to 'repo' but some required information is missing from the environment. A job will not be created from this run. See https://docs.wandb.ai/guides/launch/create-job\n"
     ]
    },
    {
     "name": "stdout",
     "output_type": "stream",
     "text": [
      "0.0019914685981348157\n"
     ]
    },
    {
     "data": {
      "application/vnd.jupyter.widget-view+json": {
       "model_id": "fa7a6063ff2b460eba4b37539d933571",
       "version_major": 2,
       "version_minor": 0
      },
      "text/plain": [
       "VBox(children=(Label(value='Waiting for wandb.init()...\\r'), FloatProgress(value=0.011112120988885484, max=1.0…"
      ]
     },
     "metadata": {},
     "output_type": "display_data"
    },
    {
     "name": "stderr",
     "output_type": "stream",
     "text": [
      "wandb: WARNING Source type is set to 'repo' but some required information is missing from the environment. A job will not be created from this run. See https://docs.wandb.ai/guides/launch/create-job\n"
     ]
    },
    {
     "name": "stdout",
     "output_type": "stream",
     "text": [
      "0.022854995913803577\n"
     ]
    },
    {
     "data": {
      "application/vnd.jupyter.widget-view+json": {
       "model_id": "4b1b0dbd31184b068301395d56ce59bb",
       "version_major": 2,
       "version_minor": 0
      },
      "text/plain": [
       "VBox(children=(Label(value='Waiting for wandb.init()...\\r'), FloatProgress(value=0.011113688399998663, max=1.0…"
      ]
     },
     "metadata": {},
     "output_type": "display_data"
    },
    {
     "name": "stderr",
     "output_type": "stream",
     "text": [
      "wandb: WARNING Source type is set to 'repo' but some required information is missing from the environment. A job will not be created from this run. See https://docs.wandb.ai/guides/launch/create-job\n"
     ]
    },
    {
     "name": "stdout",
     "output_type": "stream",
     "text": [
      "0.004833610495552421\n"
     ]
    },
    {
     "data": {
      "application/vnd.jupyter.widget-view+json": {
       "model_id": "61b7ebb427c141e2acdc0c9cf883a71f",
       "version_major": 2,
       "version_minor": 0
      },
      "text/plain": [
       "VBox(children=(Label(value='Waiting for wandb.init()...\\r'), FloatProgress(value=0.011114135233330873, max=1.0…"
      ]
     },
     "metadata": {},
     "output_type": "display_data"
    },
    {
     "name": "stderr",
     "output_type": "stream",
     "text": [
      "wandb: WARNING Source type is set to 'repo' but some required information is missing from the environment. A job will not be created from this run. See https://docs.wandb.ai/guides/launch/create-job\n"
     ]
    },
    {
     "name": "stdout",
     "output_type": "stream",
     "text": [
      "2.248732198495418e-05\n"
     ]
    },
    {
     "data": {
      "application/vnd.jupyter.widget-view+json": {
       "model_id": "0ed8fde7d43848708a9db222b84c7c49",
       "version_major": 2,
       "version_minor": 0
      },
      "text/plain": [
       "VBox(children=(Label(value='Waiting for wandb.init()...\\r'), FloatProgress(value=0.011112582177783123, max=1.0…"
      ]
     },
     "metadata": {},
     "output_type": "display_data"
    },
    {
     "name": "stderr",
     "output_type": "stream",
     "text": [
      "wandb: WARNING Source type is set to 'repo' but some required information is missing from the environment. A job will not be created from this run. See https://docs.wandb.ai/guides/launch/create-job\n"
     ]
    },
    {
     "name": "stdout",
     "output_type": "stream",
     "text": [
      "3.1077719540917315e-05\n"
     ]
    },
    {
     "name": "stderr",
     "output_type": "stream",
     "text": [
      "wandb: WARNING Source type is set to 'repo' but some required information is missing from the environment. A job will not be created from this run. See https://docs.wandb.ai/guides/launch/create-job\n"
     ]
    },
    {
     "name": "stdout",
     "output_type": "stream",
     "text": [
      "6.763474402760039e-06\n"
     ]
    },
    {
     "name": "stderr",
     "output_type": "stream",
     "text": [
      "wandb: WARNING Source type is set to 'repo' but some required information is missing from the environment. A job will not be created from this run. See https://docs.wandb.ai/guides/launch/create-job\n"
     ]
    },
    {
     "name": "stdout",
     "output_type": "stream",
     "text": [
      "0.0033727550180628896\n"
     ]
    },
    {
     "name": "stderr",
     "output_type": "stream",
     "text": [
      "wandb: WARNING Source type is set to 'repo' but some required information is missing from the environment. A job will not be created from this run. See https://docs.wandb.ai/guides/launch/create-job\n"
     ]
    },
    {
     "name": "stdout",
     "output_type": "stream",
     "text": [
      "1.4458619716606336e-05\n"
     ]
    },
    {
     "name": "stderr",
     "output_type": "stream",
     "text": [
      "wandb: WARNING Source type is set to 'repo' but some required information is missing from the environment. A job will not be created from this run. See https://docs.wandb.ai/guides/launch/create-job\n"
     ]
    },
    {
     "name": "stdout",
     "output_type": "stream",
     "text": [
      "8.4424327724264e-06\n"
     ]
    },
    {
     "name": "stderr",
     "output_type": "stream",
     "text": [
      "wandb: WARNING Source type is set to 'repo' but some required information is missing from the environment. A job will not be created from this run. See https://docs.wandb.ai/guides/launch/create-job\n"
     ]
    },
    {
     "name": "stdout",
     "output_type": "stream",
     "text": [
      "0.01191717991605401\n"
     ]
    },
    {
     "name": "stderr",
     "output_type": "stream",
     "text": [
      "wandb: WARNING Source type is set to 'repo' but some required information is missing from the environment. A job will not be created from this run. See https://docs.wandb.ai/guides/launch/create-job\n"
     ]
    },
    {
     "name": "stdout",
     "output_type": "stream",
     "text": [
      "1.209895435749786e-05\n"
     ]
    },
    {
     "name": "stderr",
     "output_type": "stream",
     "text": [
      "wandb: WARNING Source type is set to 'repo' but some required information is missing from the environment. A job will not be created from this run. See https://docs.wandb.ai/guides/launch/create-job\n"
     ]
    },
    {
     "name": "stdout",
     "output_type": "stream",
     "text": [
      "4.6476145143969916e-05\n"
     ]
    },
    {
     "name": "stderr",
     "output_type": "stream",
     "text": [
      "wandb: WARNING Source type is set to 'repo' but some required information is missing from the environment. A job will not be created from this run. See https://docs.wandb.ai/guides/launch/create-job\n"
     ]
    },
    {
     "name": "stdout",
     "output_type": "stream",
     "text": [
      "9.502975444775075e-06\n"
     ]
    },
    {
     "name": "stderr",
     "output_type": "stream",
     "text": [
      "wandb: WARNING Source type is set to 'repo' but some required information is missing from the environment. A job will not be created from this run. See https://docs.wandb.ai/guides/launch/create-job\n"
     ]
    },
    {
     "name": "stdout",
     "output_type": "stream",
     "text": [
      "2.9560522307292558e-05\n"
     ]
    },
    {
     "name": "stderr",
     "output_type": "stream",
     "text": [
      "wandb: WARNING Source type is set to 'repo' but some required information is missing from the environment. A job will not be created from this run. See https://docs.wandb.ai/guides/launch/create-job\n"
     ]
    },
    {
     "name": "stdout",
     "output_type": "stream",
     "text": [
      "1.2388334198476514e-05\n"
     ]
    },
    {
     "name": "stderr",
     "output_type": "stream",
     "text": [
      "wandb: WARNING Source type is set to 'repo' but some required information is missing from the environment. A job will not be created from this run. See https://docs.wandb.ai/guides/launch/create-job\n"
     ]
    },
    {
     "name": "stdout",
     "output_type": "stream",
     "text": [
      "2.583090554253431e-05\n"
     ]
    },
    {
     "name": "stderr",
     "output_type": "stream",
     "text": [
      "wandb: WARNING Source type is set to 'repo' but some required information is missing from the environment. A job will not be created from this run. See https://docs.wandb.ai/guides/launch/create-job\n"
     ]
    },
    {
     "name": "stdout",
     "output_type": "stream",
     "text": [
      "1.2768652140948689e-05\n"
     ]
    },
    {
     "name": "stderr",
     "output_type": "stream",
     "text": [
      "wandb: WARNING Source type is set to 'repo' but some required information is missing from the environment. A job will not be created from this run. See https://docs.wandb.ai/guides/launch/create-job\n"
     ]
    },
    {
     "name": "stdout",
     "output_type": "stream",
     "text": [
      "7.097943580447463e-06\n"
     ]
    },
    {
     "name": "stderr",
     "output_type": "stream",
     "text": [
      "wandb: WARNING Source type is set to 'repo' but some required information is missing from the environment. A job will not be created from this run. See https://docs.wandb.ai/guides/launch/create-job\n"
     ]
    },
    {
     "name": "stdout",
     "output_type": "stream",
     "text": [
      "2.739029787335312e-05\n"
     ]
    },
    {
     "name": "stderr",
     "output_type": "stream",
     "text": [
      "[INFO 03-24 00:31:21] ax.modelbridge.base: Untransformed parameter 0.020000000000000004 greater than upper bound 0.02, clamping\n",
      "wandb: WARNING Source type is set to 'repo' but some required information is missing from the environment. A job will not be created from this run. See https://docs.wandb.ai/guides/launch/create-job\n"
     ]
    },
    {
     "name": "stdout",
     "output_type": "stream",
     "text": [
      "0.0007882632198743522\n"
     ]
    },
    {
     "name": "stderr",
     "output_type": "stream",
     "text": [
      "wandb: WARNING Source type is set to 'repo' but some required information is missing from the environment. A job will not be created from this run. See https://docs.wandb.ai/guides/launch/create-job\n"
     ]
    },
    {
     "name": "stdout",
     "output_type": "stream",
     "text": [
      "1.0235686204396188e-05\n"
     ]
    },
    {
     "name": "stderr",
     "output_type": "stream",
     "text": [
      "wandb: WARNING Source type is set to 'repo' but some required information is missing from the environment. A job will not be created from this run. See https://docs.wandb.ai/guides/launch/create-job\n"
     ]
    },
    {
     "name": "stdout",
     "output_type": "stream",
     "text": [
      "1.7465782548242714e-05\n"
     ]
    },
    {
     "name": "stderr",
     "output_type": "stream",
     "text": [
      "wandb: WARNING Source type is set to 'repo' but some required information is missing from the environment. A job will not be created from this run. See https://docs.wandb.ai/guides/launch/create-job\n"
     ]
    },
    {
     "name": "stdout",
     "output_type": "stream",
     "text": [
      "0.00011397690468584187\n"
     ]
    },
    {
     "name": "stderr",
     "output_type": "stream",
     "text": [
      "wandb: WARNING Source type is set to 'repo' but some required information is missing from the environment. A job will not be created from this run. See https://docs.wandb.ai/guides/launch/create-job\n"
     ]
    },
    {
     "name": "stdout",
     "output_type": "stream",
     "text": [
      "5.449450691230595e-05\n"
     ]
    },
    {
     "name": "stderr",
     "output_type": "stream",
     "text": [
      "wandb: WARNING Source type is set to 'repo' but some required information is missing from the environment. A job will not be created from this run. See https://docs.wandb.ai/guides/launch/create-job\n"
     ]
    },
    {
     "name": "stdout",
     "output_type": "stream",
     "text": [
      "1.940245147125097e-05\n"
     ]
    },
    {
     "name": "stderr",
     "output_type": "stream",
     "text": [
      "wandb: WARNING Source type is set to 'repo' but some required information is missing from the environment. A job will not be created from this run. See https://docs.wandb.ai/guides/launch/create-job\n"
     ]
    },
    {
     "name": "stdout",
     "output_type": "stream",
     "text": [
      "5.7573665799282026e-06\n"
     ]
    },
    {
     "name": "stderr",
     "output_type": "stream",
     "text": [
      "wandb: WARNING Source type is set to 'repo' but some required information is missing from the environment. A job will not be created from this run. See https://docs.wandb.ai/guides/launch/create-job\n"
     ]
    },
    {
     "name": "stdout",
     "output_type": "stream",
     "text": [
      "1.3241041870060144e-05\n"
     ]
    },
    {
     "name": "stderr",
     "output_type": "stream",
     "text": [
      "wandb: WARNING Source type is set to 'repo' but some required information is missing from the environment. A job will not be created from this run. See https://docs.wandb.ai/guides/launch/create-job\n"
     ]
    },
    {
     "name": "stdout",
     "output_type": "stream",
     "text": [
      "6.102564839238767e-06\n"
     ]
    },
    {
     "name": "stderr",
     "output_type": "stream",
     "text": [
      "wandb: WARNING Source type is set to 'repo' but some required information is missing from the environment. A job will not be created from this run. See https://docs.wandb.ai/guides/launch/create-job\n"
     ]
    },
    {
     "name": "stdout",
     "output_type": "stream",
     "text": [
      "1.2200056062283693e-05\n"
     ]
    },
    {
     "name": "stderr",
     "output_type": "stream",
     "text": [
      "wandb: WARNING Source type is set to 'repo' but some required information is missing from the environment. A job will not be created from this run. See https://docs.wandb.ai/guides/launch/create-job\n"
     ]
    },
    {
     "name": "stdout",
     "output_type": "stream",
     "text": [
      "1.2220074495417066e-05\n"
     ]
    },
    {
     "name": "stderr",
     "output_type": "stream",
     "text": [
      "wandb: WARNING Source type is set to 'repo' but some required information is missing from the environment. A job will not be created from this run. See https://docs.wandb.ai/guides/launch/create-job\n"
     ]
    },
    {
     "name": "stdout",
     "output_type": "stream",
     "text": [
      "1.0855472737603122e-05\n"
     ]
    },
    {
     "name": "stderr",
     "output_type": "stream",
     "text": [
      "wandb: WARNING Source type is set to 'repo' but some required information is missing from the environment. A job will not be created from this run. See https://docs.wandb.ai/guides/launch/create-job\n"
     ]
    },
    {
     "name": "stdout",
     "output_type": "stream",
     "text": [
      "1.3010231214138912e-05\n"
     ]
    },
    {
     "name": "stderr",
     "output_type": "stream",
     "text": [
      "wandb: WARNING Source type is set to 'repo' but some required information is missing from the environment. A job will not be created from this run. See https://docs.wandb.ai/guides/launch/create-job\n"
     ]
    },
    {
     "name": "stdout",
     "output_type": "stream",
     "text": [
      "5.730764769396046e-06\n"
     ]
    },
    {
     "name": "stderr",
     "output_type": "stream",
     "text": [
      "wandb: WARNING Source type is set to 'repo' but some required information is missing from the environment. A job will not be created from this run. See https://docs.wandb.ai/guides/launch/create-job\n"
     ]
    },
    {
     "name": "stdout",
     "output_type": "stream",
     "text": [
      "6.499063829323859e-06\n"
     ]
    },
    {
     "name": "stderr",
     "output_type": "stream",
     "text": [
      "wandb: WARNING Source type is set to 'repo' but some required information is missing from the environment. A job will not be created from this run. See https://docs.wandb.ai/guides/launch/create-job\n"
     ]
    },
    {
     "name": "stdout",
     "output_type": "stream",
     "text": [
      "7.611455657752231e-05\n"
     ]
    },
    {
     "name": "stderr",
     "output_type": "stream",
     "text": [
      "wandb: WARNING Source type is set to 'repo' but some required information is missing from the environment. A job will not be created from this run. See https://docs.wandb.ai/guides/launch/create-job\n"
     ]
    },
    {
     "name": "stdout",
     "output_type": "stream",
     "text": [
      "0.0002453578999848105\n"
     ]
    },
    {
     "name": "stderr",
     "output_type": "stream",
     "text": [
      "wandb: WARNING Source type is set to 'repo' but some required information is missing from the environment. A job will not be created from this run. See https://docs.wandb.ai/guides/launch/create-job\n"
     ]
    },
    {
     "name": "stdout",
     "output_type": "stream",
     "text": [
      "3.6733081287820823e-06\n"
     ]
    },
    {
     "name": "stderr",
     "output_type": "stream",
     "text": [
      "wandb: WARNING Source type is set to 'repo' but some required information is missing from the environment. A job will not be created from this run. See https://docs.wandb.ai/guides/launch/create-job\n"
     ]
    },
    {
     "name": "stdout",
     "output_type": "stream",
     "text": [
      "2.9614307095471304e-06\n"
     ]
    },
    {
     "name": "stderr",
     "output_type": "stream",
     "text": [
      "wandb: WARNING Source type is set to 'repo' but some required information is missing from the environment. A job will not be created from this run. See https://docs.wandb.ai/guides/launch/create-job\n"
     ]
    },
    {
     "name": "stdout",
     "output_type": "stream",
     "text": [
      "5.468684321385808e-05\n"
     ]
    },
    {
     "name": "stderr",
     "output_type": "stream",
     "text": [
      "wandb: WARNING Source type is set to 'repo' but some required information is missing from the environment. A job will not be created from this run. See https://docs.wandb.ai/guides/launch/create-job\n"
     ]
    },
    {
     "name": "stdout",
     "output_type": "stream",
     "text": [
      "8.21003777673468e-06\n"
     ]
    },
    {
     "name": "stderr",
     "output_type": "stream",
     "text": [
      "wandb: WARNING Source type is set to 'repo' but some required information is missing from the environment. A job will not be created from this run. See https://docs.wandb.ai/guides/launch/create-job\n"
     ]
    },
    {
     "name": "stdout",
     "output_type": "stream",
     "text": [
      "5.1927998356404714e-05\n"
     ]
    },
    {
     "name": "stderr",
     "output_type": "stream",
     "text": [
      "wandb: WARNING Source type is set to 'repo' but some required information is missing from the environment. A job will not be created from this run. See https://docs.wandb.ai/guides/launch/create-job\n"
     ]
    },
    {
     "name": "stdout",
     "output_type": "stream",
     "text": [
      "2.8126916731707752e-05\n"
     ]
    },
    {
     "name": "stderr",
     "output_type": "stream",
     "text": [
      "wandb: WARNING Source type is set to 'repo' but some required information is missing from the environment. A job will not be created from this run. See https://docs.wandb.ai/guides/launch/create-job\n"
     ]
    },
    {
     "name": "stdout",
     "output_type": "stream",
     "text": [
      "1.2251382486283546e-05\n"
     ]
    },
    {
     "name": "stderr",
     "output_type": "stream",
     "text": [
      "wandb: WARNING Source type is set to 'repo' but some required information is missing from the environment. A job will not be created from this run. See https://docs.wandb.ai/guides/launch/create-job\n"
     ]
    },
    {
     "name": "stdout",
     "output_type": "stream",
     "text": [
      "1.6256178241746966e-05\n"
     ]
    },
    {
     "name": "stderr",
     "output_type": "stream",
     "text": [
      "wandb: WARNING Source type is set to 'repo' but some required information is missing from the environment. A job will not be created from this run. See https://docs.wandb.ai/guides/launch/create-job\n"
     ]
    },
    {
     "name": "stdout",
     "output_type": "stream",
     "text": [
      "0.00014618804561905563\n"
     ]
    },
    {
     "data": {
      "application/vnd.jupyter.widget-view+json": {
       "model_id": "504229eff99941dd9548247a6fa4fd13",
       "version_major": 2,
       "version_minor": 0
      },
      "text/plain": [
       "VBox(children=(Label(value='Waiting for wandb.init()...\\r'), FloatProgress(value=0.011114434266669884, max=1.0…"
      ]
     },
     "metadata": {},
     "output_type": "display_data"
    },
    {
     "name": "stderr",
     "output_type": "stream",
     "text": [
      "wandb: WARNING Source type is set to 'repo' but some required information is missing from the environment. A job will not be created from this run. See https://docs.wandb.ai/guides/launch/create-job\n"
     ]
    },
    {
     "name": "stdout",
     "output_type": "stream",
     "text": [
      "1.040700044541154e-05\n"
     ]
    },
    {
     "name": "stderr",
     "output_type": "stream",
     "text": [
      "wandb: WARNING Source type is set to 'repo' but some required information is missing from the environment. A job will not be created from this run. See https://docs.wandb.ai/guides/launch/create-job\n"
     ]
    },
    {
     "name": "stdout",
     "output_type": "stream",
     "text": [
      "1.950364821823314e-05\n"
     ]
    },
    {
     "name": "stderr",
     "output_type": "stream",
     "text": [
      "wandb: WARNING Source type is set to 'repo' but some required information is missing from the environment. A job will not be created from this run. See https://docs.wandb.ai/guides/launch/create-job\n"
     ]
    },
    {
     "name": "stdout",
     "output_type": "stream",
     "text": [
      "3.643519085017033e-05\n"
     ]
    },
    {
     "name": "stderr",
     "output_type": "stream",
     "text": [
      "wandb: WARNING Source type is set to 'repo' but some required information is missing from the environment. A job will not be created from this run. See https://docs.wandb.ai/guides/launch/create-job\n"
     ]
    },
    {
     "name": "stdout",
     "output_type": "stream",
     "text": [
      "5.6185144785558805e-05\n"
     ]
    },
    {
     "data": {
      "application/vnd.jupyter.widget-view+json": {
       "model_id": "c5e0a5f7e1d14fc08499d7e7e399d3ec",
       "version_major": 2,
       "version_minor": 0
      },
      "text/plain": [
       "VBox(children=(Label(value='Waiting for wandb.init()...\\r'), FloatProgress(value=0.011114099255569778, max=1.0…"
      ]
     },
     "metadata": {},
     "output_type": "display_data"
    },
    {
     "name": "stderr",
     "output_type": "stream",
     "text": [
      "wandb: WARNING Source type is set to 'repo' but some required information is missing from the environment. A job will not be created from this run. See https://docs.wandb.ai/guides/launch/create-job\n"
     ]
    },
    {
     "name": "stdout",
     "output_type": "stream",
     "text": [
      "0.014617058914154768\n"
     ]
    },
    {
     "name": "stderr",
     "output_type": "stream",
     "text": [
      "wandb: WARNING Source type is set to 'repo' but some required information is missing from the environment. A job will not be created from this run. See https://docs.wandb.ai/guides/launch/create-job\n"
     ]
    },
    {
     "name": "stdout",
     "output_type": "stream",
     "text": [
      "1.7446570382162463e-05\n"
     ]
    },
    {
     "name": "stderr",
     "output_type": "stream",
     "text": [
      "wandb: WARNING Source type is set to 'repo' but some required information is missing from the environment. A job will not be created from this run. See https://docs.wandb.ai/guides/launch/create-job\n"
     ]
    },
    {
     "name": "stdout",
     "output_type": "stream",
     "text": [
      "2.7940668587689288e-05\n"
     ]
    },
    {
     "name": "stderr",
     "output_type": "stream",
     "text": [
      "wandb: WARNING Source type is set to 'repo' but some required information is missing from the environment. A job will not be created from this run. See https://docs.wandb.ai/guides/launch/create-job\n"
     ]
    },
    {
     "name": "stdout",
     "output_type": "stream",
     "text": [
      "0.016720904037356377\n"
     ]
    },
    {
     "name": "stderr",
     "output_type": "stream",
     "text": [
      "wandb: WARNING Source type is set to 'repo' but some required information is missing from the environment. A job will not be created from this run. See https://docs.wandb.ai/guides/launch/create-job\n"
     ]
    },
    {
     "name": "stdout",
     "output_type": "stream",
     "text": [
      "2.5240717150154524e-05\n"
     ]
    },
    {
     "name": "stderr",
     "output_type": "stream",
     "text": [
      "wandb: WARNING Source type is set to 'repo' but some required information is missing from the environment. A job will not be created from this run. See https://docs.wandb.ai/guides/launch/create-job\n"
     ]
    },
    {
     "name": "stdout",
     "output_type": "stream",
     "text": [
      "1.4009680853632744e-05\n"
     ]
    },
    {
     "name": "stderr",
     "output_type": "stream",
     "text": [
      "wandb: WARNING Source type is set to 'repo' but some required information is missing from the environment. A job will not be created from this run. See https://docs.wandb.ai/guides/launch/create-job\n"
     ]
    },
    {
     "name": "stdout",
     "output_type": "stream",
     "text": [
      "1.0107736216014018e-05\n"
     ]
    },
    {
     "name": "stderr",
     "output_type": "stream",
     "text": [
      "[INFO 03-24 01:58:54] ax.modelbridge.base: Untransformed parameter 0.020000000000000004 greater than upper bound 0.02, clamping\n",
      "wandb: WARNING Source type is set to 'repo' but some required information is missing from the environment. A job will not be created from this run. See https://docs.wandb.ai/guides/launch/create-job\n"
     ]
    },
    {
     "name": "stdout",
     "output_type": "stream",
     "text": [
      "0.02422376349568367\n"
     ]
    },
    {
     "name": "stderr",
     "output_type": "stream",
     "text": [
      "wandb: WARNING Source type is set to 'repo' but some required information is missing from the environment. A job will not be created from this run. See https://docs.wandb.ai/guides/launch/create-job\n"
     ]
    },
    {
     "name": "stdout",
     "output_type": "stream",
     "text": [
      "1.2734675237879856e-05\n"
     ]
    },
    {
     "name": "stderr",
     "output_type": "stream",
     "text": [
      "wandb: WARNING Source type is set to 'repo' but some required information is missing from the environment. A job will not be created from this run. See https://docs.wandb.ai/guides/launch/create-job\n"
     ]
    },
    {
     "name": "stdout",
     "output_type": "stream",
     "text": [
      "6.584892389582819e-06\n"
     ]
    },
    {
     "name": "stderr",
     "output_type": "stream",
     "text": [
      "wandb: WARNING Source type is set to 'repo' but some required information is missing from the environment. A job will not be created from this run. See https://docs.wandb.ai/guides/launch/create-job\n"
     ]
    },
    {
     "name": "stdout",
     "output_type": "stream",
     "text": [
      "6.644576615144615e-06\n"
     ]
    },
    {
     "name": "stderr",
     "output_type": "stream",
     "text": [
      "wandb: WARNING Source type is set to 'repo' but some required information is missing from the environment. A job will not be created from this run. See https://docs.wandb.ai/guides/launch/create-job\n"
     ]
    },
    {
     "name": "stdout",
     "output_type": "stream",
     "text": [
      "1.5823717149032746e-05\n"
     ]
    },
    {
     "name": "stderr",
     "output_type": "stream",
     "text": [
      "wandb: WARNING Source type is set to 'repo' but some required information is missing from the environment. A job will not be created from this run. See https://docs.wandb.ai/guides/launch/create-job\n"
     ]
    },
    {
     "name": "stdout",
     "output_type": "stream",
     "text": [
      "0.02202260959893465\n"
     ]
    },
    {
     "name": "stderr",
     "output_type": "stream",
     "text": [
      "wandb: WARNING Source type is set to 'repo' but some required information is missing from the environment. A job will not be created from this run. See https://docs.wandb.ai/guides/launch/create-job\n"
     ]
    },
    {
     "name": "stdout",
     "output_type": "stream",
     "text": [
      "0.0025579711655154824\n"
     ]
    },
    {
     "name": "stderr",
     "output_type": "stream",
     "text": [
      "wandb: WARNING Source type is set to 'repo' but some required information is missing from the environment. A job will not be created from this run. See https://docs.wandb.ai/guides/launch/create-job\n"
     ]
    },
    {
     "name": "stdout",
     "output_type": "stream",
     "text": [
      "5.882311370442039e-06\n"
     ]
    },
    {
     "name": "stderr",
     "output_type": "stream",
     "text": [
      "wandb: WARNING Source type is set to 'repo' but some required information is missing from the environment. A job will not be created from this run. See https://docs.wandb.ai/guides/launch/create-job\n"
     ]
    },
    {
     "name": "stdout",
     "output_type": "stream",
     "text": [
      "6.30208137408772e-06\n"
     ]
    },
    {
     "name": "stderr",
     "output_type": "stream",
     "text": [
      "wandb: WARNING Source type is set to 'repo' but some required information is missing from the environment. A job will not be created from this run. See https://docs.wandb.ai/guides/launch/create-job\n"
     ]
    },
    {
     "name": "stdout",
     "output_type": "stream",
     "text": [
      "7.641351112397388e-05\n"
     ]
    },
    {
     "name": "stderr",
     "output_type": "stream",
     "text": [
      "wandb: WARNING Source type is set to 'repo' but some required information is missing from the environment. A job will not be created from this run. See https://docs.wandb.ai/guides/launch/create-job\n"
     ]
    },
    {
     "name": "stdout",
     "output_type": "stream",
     "text": [
      "2.507738372514723e-05\n"
     ]
    },
    {
     "name": "stderr",
     "output_type": "stream",
     "text": [
      "wandb: WARNING Source type is set to 'repo' but some required information is missing from the environment. A job will not be created from this run. See https://docs.wandb.ai/guides/launch/create-job\n"
     ]
    },
    {
     "name": "stdout",
     "output_type": "stream",
     "text": [
      "7.354220542765688e-06\n"
     ]
    },
    {
     "name": "stderr",
     "output_type": "stream",
     "text": [
      "wandb: WARNING Source type is set to 'repo' but some required information is missing from the environment. A job will not be created from this run. See https://docs.wandb.ai/guides/launch/create-job\n"
     ]
    },
    {
     "name": "stdout",
     "output_type": "stream",
     "text": [
      "4.9338250391883776e-06\n"
     ]
    },
    {
     "name": "stderr",
     "output_type": "stream",
     "text": [
      "wandb: WARNING Source type is set to 'repo' but some required information is missing from the environment. A job will not be created from this run. See https://docs.wandb.ai/guides/launch/create-job\n"
     ]
    },
    {
     "name": "stdout",
     "output_type": "stream",
     "text": [
      "1.0794842637551483e-05\n"
     ]
    },
    {
     "name": "stderr",
     "output_type": "stream",
     "text": [
      "wandb: WARNING Source type is set to 'repo' but some required information is missing from the environment. A job will not be created from this run. See https://docs.wandb.ai/guides/launch/create-job\n"
     ]
    },
    {
     "name": "stdout",
     "output_type": "stream",
     "text": [
      "7.595572242280468e-06\n"
     ]
    },
    {
     "name": "stderr",
     "output_type": "stream",
     "text": [
      "wandb: WARNING Source type is set to 'repo' but some required information is missing from the environment. A job will not be created from this run. See https://docs.wandb.ai/guides/launch/create-job\n"
     ]
    },
    {
     "name": "stdout",
     "output_type": "stream",
     "text": [
      "1.7104375729104504e-05\n"
     ]
    },
    {
     "name": "stderr",
     "output_type": "stream",
     "text": [
      "wandb: WARNING Source type is set to 'repo' but some required information is missing from the environment. A job will not be created from this run. See https://docs.wandb.ai/guides/launch/create-job\n"
     ]
    },
    {
     "name": "stdout",
     "output_type": "stream",
     "text": [
      "6.598814479730208e-06\n"
     ]
    },
    {
     "name": "stderr",
     "output_type": "stream",
     "text": [
      "wandb: WARNING Source type is set to 'repo' but some required information is missing from the environment. A job will not be created from this run. See https://docs.wandb.ai/guides/launch/create-job\n"
     ]
    },
    {
     "name": "stdout",
     "output_type": "stream",
     "text": [
      "0.019008600153028965\n"
     ]
    },
    {
     "name": "stderr",
     "output_type": "stream",
     "text": [
      "wandb: WARNING Source type is set to 'repo' but some required information is missing from the environment. A job will not be created from this run. See https://docs.wandb.ai/guides/launch/create-job\n"
     ]
    },
    {
     "name": "stdout",
     "output_type": "stream",
     "text": [
      "1.4864640434097964e-05\n"
     ]
    },
    {
     "data": {
      "application/vnd.jupyter.widget-view+json": {
       "model_id": "16ad51d85dfd4d45a71246c66a3f9bb1",
       "version_major": 2,
       "version_minor": 0
      },
      "text/plain": [
       "VBox(children=(Label(value='Waiting for wandb.init()...\\r'), FloatProgress(value=0.011113955322232666, max=1.0…"
      ]
     },
     "metadata": {},
     "output_type": "display_data"
    },
    {
     "name": "stderr",
     "output_type": "stream",
     "text": [
      "wandb: WARNING Source type is set to 'repo' but some required information is missing from the environment. A job will not be created from this run. See https://docs.wandb.ai/guides/launch/create-job\n"
     ]
    },
    {
     "name": "stdout",
     "output_type": "stream",
     "text": [
      "5.76005868424545e-06\n"
     ]
    },
    {
     "name": "stderr",
     "output_type": "stream",
     "text": [
      "wandb: WARNING Source type is set to 'repo' but some required information is missing from the environment. A job will not be created from this run. See https://docs.wandb.ai/guides/launch/create-job\n"
     ]
    },
    {
     "name": "stdout",
     "output_type": "stream",
     "text": [
      "4.553582220978569e-05\n"
     ]
    },
    {
     "name": "stderr",
     "output_type": "stream",
     "text": [
      "wandb: WARNING Source type is set to 'repo' but some required information is missing from the environment. A job will not be created from this run. See https://docs.wandb.ai/guides/launch/create-job\n"
     ]
    },
    {
     "name": "stdout",
     "output_type": "stream",
     "text": [
      "1.5896720469754655e-05\n"
     ]
    },
    {
     "name": "stderr",
     "output_type": "stream",
     "text": [
      "wandb: WARNING Source type is set to 'repo' but some required information is missing from the environment. A job will not be created from this run. See https://docs.wandb.ai/guides/launch/create-job\n"
     ]
    },
    {
     "name": "stdout",
     "output_type": "stream",
     "text": [
      "1.0183979611610994e-05\n"
     ]
    },
    {
     "name": "stderr",
     "output_type": "stream",
     "text": [
      "wandb: WARNING Source type is set to 'repo' but some required information is missing from the environment. A job will not be created from this run. See https://docs.wandb.ai/guides/launch/create-job\n"
     ]
    },
    {
     "name": "stdout",
     "output_type": "stream",
     "text": [
      "1.0615529390634038e-05\n"
     ]
    },
    {
     "name": "stderr",
     "output_type": "stream",
     "text": [
      "wandb: WARNING Source type is set to 'repo' but some required information is missing from the environment. A job will not be created from this run. See https://docs.wandb.ai/guides/launch/create-job\n"
     ]
    },
    {
     "name": "stdout",
     "output_type": "stream",
     "text": [
      "9.994511401600903e-06\n"
     ]
    },
    {
     "name": "stderr",
     "output_type": "stream",
     "text": [
      "wandb: WARNING Source type is set to 'repo' but some required information is missing from the environment. A job will not be created from this run. See https://docs.wandb.ai/guides/launch/create-job\n"
     ]
    },
    {
     "name": "stdout",
     "output_type": "stream",
     "text": [
      "1.898999289551284e-05\n"
     ]
    },
    {
     "name": "stderr",
     "output_type": "stream",
     "text": [
      "wandb: WARNING Source type is set to 'repo' but some required information is missing from the environment. A job will not be created from this run. See https://docs.wandb.ai/guides/launch/create-job\n"
     ]
    },
    {
     "name": "stdout",
     "output_type": "stream",
     "text": [
      "2.5101931896642782e-05\n"
     ]
    },
    {
     "name": "stderr",
     "output_type": "stream",
     "text": [
      "wandb: WARNING Source type is set to 'repo' but some required information is missing from the environment. A job will not be created from this run. See https://docs.wandb.ai/guides/launch/create-job\n"
     ]
    },
    {
     "name": "stdout",
     "output_type": "stream",
     "text": [
      "1.0647017461451469e-05\n"
     ]
    },
    {
     "name": "stderr",
     "output_type": "stream",
     "text": [
      "wandb: WARNING Source type is set to 'repo' but some required information is missing from the environment. A job will not be created from this run. See https://docs.wandb.ai/guides/launch/create-job\n"
     ]
    },
    {
     "name": "stdout",
     "output_type": "stream",
     "text": [
      "6.601875838896376e-06\n"
     ]
    },
    {
     "name": "stderr",
     "output_type": "stream",
     "text": [
      "wandb: WARNING Source type is set to 'repo' but some required information is missing from the environment. A job will not be created from this run. See https://docs.wandb.ai/guides/launch/create-job\n"
     ]
    },
    {
     "name": "stdout",
     "output_type": "stream",
     "text": [
      "1.0322560683562187e-05\n"
     ]
    },
    {
     "name": "stderr",
     "output_type": "stream",
     "text": [
      "wandb: WARNING Source type is set to 'repo' but some required information is missing from the environment. A job will not be created from this run. See https://docs.wandb.ai/guides/launch/create-job\n"
     ]
    },
    {
     "name": "stdout",
     "output_type": "stream",
     "text": [
      "2.168206265196204e-06\n"
     ]
    },
    {
     "name": "stderr",
     "output_type": "stream",
     "text": [
      "wandb: WARNING Source type is set to 'repo' but some required information is missing from the environment. A job will not be created from this run. See https://docs.wandb.ai/guides/launch/create-job\n"
     ]
    },
    {
     "name": "stdout",
     "output_type": "stream",
     "text": [
      "0.005172956269234419\n"
     ]
    },
    {
     "name": "stderr",
     "output_type": "stream",
     "text": [
      "wandb: WARNING Source type is set to 'repo' but some required information is missing from the environment. A job will not be created from this run. See https://docs.wandb.ai/guides/launch/create-job\n"
     ]
    },
    {
     "name": "stdout",
     "output_type": "stream",
     "text": [
      "8.801440344541334e-06\n"
     ]
    },
    {
     "data": {
      "application/vnd.jupyter.widget-view+json": {
       "model_id": "83515a0b5e884fa9964bf08ed29031d8",
       "version_major": 2,
       "version_minor": 0
      },
      "text/plain": [
       "VBox(children=(Label(value='Waiting for wandb.init()...\\r'), FloatProgress(value=0.011113976622234784, max=1.0…"
      ]
     },
     "metadata": {},
     "output_type": "display_data"
    },
    {
     "name": "stderr",
     "output_type": "stream",
     "text": [
      "wandb: WARNING Source type is set to 'repo' but some required information is missing from the environment. A job will not be created from this run. See https://docs.wandb.ai/guides/launch/create-job\n"
     ]
    },
    {
     "name": "stdout",
     "output_type": "stream",
     "text": [
      "1.2190505003673024e-05\n"
     ]
    },
    {
     "name": "stderr",
     "output_type": "stream",
     "text": [
      "wandb: WARNING Source type is set to 'repo' but some required information is missing from the environment. A job will not be created from this run. See https://docs.wandb.ai/guides/launch/create-job\n"
     ]
    },
    {
     "name": "stdout",
     "output_type": "stream",
     "text": [
      "6.30672639090335e-06\n"
     ]
    },
    {
     "name": "stderr",
     "output_type": "stream",
     "text": [
      "wandb: WARNING Source type is set to 'repo' but some required information is missing from the environment. A job will not be created from this run. See https://docs.wandb.ai/guides/launch/create-job\n"
     ]
    },
    {
     "name": "stdout",
     "output_type": "stream",
     "text": [
      "6.860255598439835e-05\n"
     ]
    },
    {
     "name": "stderr",
     "output_type": "stream",
     "text": [
      "wandb: WARNING Source type is set to 'repo' but some required information is missing from the environment. A job will not be created from this run. See https://docs.wandb.ai/guides/launch/create-job\n"
     ]
    },
    {
     "name": "stdout",
     "output_type": "stream",
     "text": [
      "0.009700154419988394\n"
     ]
    },
    {
     "name": "stderr",
     "output_type": "stream",
     "text": [
      "wandb: WARNING Source type is set to 'repo' but some required information is missing from the environment. A job will not be created from this run. See https://docs.wandb.ai/guides/launch/create-job\n"
     ]
    },
    {
     "name": "stdout",
     "output_type": "stream",
     "text": [
      "7.943242962937802e-05\n"
     ]
    },
    {
     "name": "stderr",
     "output_type": "stream",
     "text": [
      "wandb: WARNING Source type is set to 'repo' but some required information is missing from the environment. A job will not be created from this run. See https://docs.wandb.ai/guides/launch/create-job\n"
     ]
    },
    {
     "name": "stdout",
     "output_type": "stream",
     "text": [
      "2.2760252250009216e-05\n"
     ]
    },
    {
     "name": "stderr",
     "output_type": "stream",
     "text": [
      "wandb: WARNING Source type is set to 'repo' but some required information is missing from the environment. A job will not be created from this run. See https://docs.wandb.ai/guides/launch/create-job\n"
     ]
    },
    {
     "name": "stdout",
     "output_type": "stream",
     "text": [
      "0.021407472901046276\n"
     ]
    }
   ],
   "source": [
    "for _ in range(100):\n",
    "    parameters, trial_index = ax_client.get_next_trial()\n",
    "    ax_client.complete_trial(trial_index=trial_index, raw_data=evaluate_model(parameters))"
   ]
  },
  {
   "cell_type": "code",
   "execution_count": 20,
   "id": "a64ca3ed",
   "metadata": {},
   "outputs": [
    {
     "data": {
      "text/plain": [
       "{'num_branch': 20,\n",
       " 'hidden_size': 120,\n",
       " 'hidden_depth': 4,\n",
       " 'learning_rate': 0.005548637705383897,\n",
       " 'num_input': 100,\n",
       " 'num_output': 100,\n",
       " 'dim_output': 1,\n",
       " 'batch_size': 500,\n",
       " 'epochs': 200}"
      ]
     },
     "execution_count": 20,
     "metadata": {},
     "output_type": "execute_result"
    }
   ],
   "source": [
    "best_parameters, values = ax_client.get_best_parameters()\n",
    "best_parameters"
   ]
  },
  {
   "cell_type": "code",
   "execution_count": 21,
   "id": "c5065c76",
   "metadata": {},
   "outputs": [
    {
     "name": "stderr",
     "output_type": "stream",
     "text": [
      "[INFO 03-24 03:38:49] ax.modelbridge.generation_strategy: Note that parameter values in dataframe are rounded to 2 decimal points; the values in the dataframe are thus not the exact ones suggested by Ax in trials.\n"
     ]
    },
    {
     "data": {
      "text/html": [
       "<div>\n",
       "<style scoped>\n",
       "    .dataframe tbody tr th:only-of-type {\n",
       "        vertical-align: middle;\n",
       "    }\n",
       "\n",
       "    .dataframe tbody tr th {\n",
       "        vertical-align: top;\n",
       "    }\n",
       "\n",
       "    .dataframe thead th {\n",
       "        text-align: right;\n",
       "    }\n",
       "</style>\n",
       "<table border=\"1\" class=\"dataframe\">\n",
       "  <thead>\n",
       "    <tr style=\"text-align: right;\">\n",
       "      <th></th>\n",
       "      <th>Generation Step</th>\n",
       "      <th>Generation Model</th>\n",
       "      <th>Trial Index</th>\n",
       "      <th>Trial Status</th>\n",
       "      <th>Arm Parameterizations</th>\n",
       "    </tr>\n",
       "  </thead>\n",
       "  <tbody>\n",
       "    <tr>\n",
       "      <th>0</th>\n",
       "      <td>GenerationStep_0</td>\n",
       "      <td>Sobol</td>\n",
       "      <td>0</td>\n",
       "      <td>COMPLETED</td>\n",
       "      <td>{'0_0': {'num_branch': 10, 'hidden_size': 120,...</td>\n",
       "    </tr>\n",
       "    <tr>\n",
       "      <th>1</th>\n",
       "      <td>GenerationStep_0</td>\n",
       "      <td>Sobol</td>\n",
       "      <td>1</td>\n",
       "      <td>COMPLETED</td>\n",
       "      <td>{'1_0': {'num_branch': 30, 'hidden_size': 80, ...</td>\n",
       "    </tr>\n",
       "    <tr>\n",
       "      <th>2</th>\n",
       "      <td>GenerationStep_0</td>\n",
       "      <td>Sobol</td>\n",
       "      <td>2</td>\n",
       "      <td>COMPLETED</td>\n",
       "      <td>{'2_0': {'num_branch': 30, 'hidden_size': 120,...</td>\n",
       "    </tr>\n",
       "    <tr>\n",
       "      <th>3</th>\n",
       "      <td>GenerationStep_0</td>\n",
       "      <td>Sobol</td>\n",
       "      <td>3</td>\n",
       "      <td>COMPLETED</td>\n",
       "      <td>{'3_0': {'num_branch': 10, 'hidden_size': 120,...</td>\n",
       "    </tr>\n",
       "    <tr>\n",
       "      <th>4</th>\n",
       "      <td>GenerationStep_0</td>\n",
       "      <td>Sobol</td>\n",
       "      <td>4</td>\n",
       "      <td>COMPLETED</td>\n",
       "      <td>{'4_0': {'num_branch': 30, 'hidden_size': 80, ...</td>\n",
       "    </tr>\n",
       "    <tr>\n",
       "      <th>...</th>\n",
       "      <td>...</td>\n",
       "      <td>...</td>\n",
       "      <td>...</td>\n",
       "      <td>...</td>\n",
       "      <td>...</td>\n",
       "    </tr>\n",
       "    <tr>\n",
       "      <th>95</th>\n",
       "      <td>GenerationStep_1</td>\n",
       "      <td>BoTorch</td>\n",
       "      <td>95</td>\n",
       "      <td>COMPLETED</td>\n",
       "      <td>{'95_0': {'num_branch': 40, 'hidden_size': 40,...</td>\n",
       "    </tr>\n",
       "    <tr>\n",
       "      <th>96</th>\n",
       "      <td>GenerationStep_1</td>\n",
       "      <td>BoTorch</td>\n",
       "      <td>96</td>\n",
       "      <td>COMPLETED</td>\n",
       "      <td>{'96_0': {'num_branch': 40, 'hidden_size': 160...</td>\n",
       "    </tr>\n",
       "    <tr>\n",
       "      <th>97</th>\n",
       "      <td>GenerationStep_1</td>\n",
       "      <td>BoTorch</td>\n",
       "      <td>97</td>\n",
       "      <td>COMPLETED</td>\n",
       "      <td>{'97_0': {'num_branch': 20, 'hidden_size': 160...</td>\n",
       "    </tr>\n",
       "    <tr>\n",
       "      <th>98</th>\n",
       "      <td>GenerationStep_1</td>\n",
       "      <td>BoTorch</td>\n",
       "      <td>98</td>\n",
       "      <td>COMPLETED</td>\n",
       "      <td>{'98_0': {'num_branch': 40, 'hidden_size': 40,...</td>\n",
       "    </tr>\n",
       "    <tr>\n",
       "      <th>99</th>\n",
       "      <td>GenerationStep_1</td>\n",
       "      <td>BoTorch</td>\n",
       "      <td>99</td>\n",
       "      <td>COMPLETED</td>\n",
       "      <td>{'99_0': {'num_branch': 10, 'hidden_size': 160...</td>\n",
       "    </tr>\n",
       "  </tbody>\n",
       "</table>\n",
       "<p>100 rows × 5 columns</p>\n",
       "</div>"
      ],
      "text/plain": [
       "     Generation Step Generation Model  Trial Index Trial Status  \\\n",
       "0   GenerationStep_0            Sobol            0    COMPLETED   \n",
       "1   GenerationStep_0            Sobol            1    COMPLETED   \n",
       "2   GenerationStep_0            Sobol            2    COMPLETED   \n",
       "3   GenerationStep_0            Sobol            3    COMPLETED   \n",
       "4   GenerationStep_0            Sobol            4    COMPLETED   \n",
       "..               ...              ...          ...          ...   \n",
       "95  GenerationStep_1          BoTorch           95    COMPLETED   \n",
       "96  GenerationStep_1          BoTorch           96    COMPLETED   \n",
       "97  GenerationStep_1          BoTorch           97    COMPLETED   \n",
       "98  GenerationStep_1          BoTorch           98    COMPLETED   \n",
       "99  GenerationStep_1          BoTorch           99    COMPLETED   \n",
       "\n",
       "                                Arm Parameterizations  \n",
       "0   {'0_0': {'num_branch': 10, 'hidden_size': 120,...  \n",
       "1   {'1_0': {'num_branch': 30, 'hidden_size': 80, ...  \n",
       "2   {'2_0': {'num_branch': 30, 'hidden_size': 120,...  \n",
       "3   {'3_0': {'num_branch': 10, 'hidden_size': 120,...  \n",
       "4   {'4_0': {'num_branch': 30, 'hidden_size': 80, ...  \n",
       "..                                                ...  \n",
       "95  {'95_0': {'num_branch': 40, 'hidden_size': 40,...  \n",
       "96  {'96_0': {'num_branch': 40, 'hidden_size': 160...  \n",
       "97  {'97_0': {'num_branch': 20, 'hidden_size': 160...  \n",
       "98  {'98_0': {'num_branch': 40, 'hidden_size': 40,...  \n",
       "99  {'99_0': {'num_branch': 10, 'hidden_size': 160...  \n",
       "\n",
       "[100 rows x 5 columns]"
      ]
     },
     "execution_count": 21,
     "metadata": {},
     "output_type": "execute_result"
    }
   ],
   "source": [
    "ax_client.generation_strategy.trials_as_df"
   ]
  },
  {
   "cell_type": "code",
   "execution_count": 22,
   "id": "b79bca7a",
   "metadata": {},
   "outputs": [
    {
     "data": {
      "application/vnd.plotly.v1+json": {
       "config": {
        "linkText": "Export to plot.ly",
        "plotlyServerURL": "https://plot.ly",
        "showLink": false
       },
       "data": [
        {
         "hoverinfo": "none",
         "legendgroup": "",
         "line": {
          "width": 0
         },
         "mode": "lines",
         "showlegend": false,
         "type": "scatter",
         "x": [
          1,
          2,
          3,
          4,
          5,
          6,
          7,
          8,
          9,
          10,
          11,
          12,
          13,
          14,
          15,
          16,
          17,
          18,
          19,
          20,
          21,
          22,
          23,
          24,
          25,
          26,
          27,
          28,
          29,
          30,
          31,
          32,
          33,
          34,
          35,
          36,
          37,
          38,
          39,
          40,
          41,
          42,
          43,
          44,
          45,
          46,
          47,
          48,
          49,
          50,
          51,
          52,
          53,
          54,
          55,
          56,
          57,
          58,
          59,
          60,
          61,
          62,
          63,
          64,
          65,
          66,
          67,
          68,
          69,
          70,
          71,
          72,
          73,
          74,
          75,
          76,
          77,
          78,
          79,
          80,
          81,
          82,
          83,
          84,
          85,
          86,
          87,
          88,
          89,
          90,
          91,
          92,
          93,
          94,
          95,
          96,
          97,
          98,
          99,
          100
         ],
         "y": [
          0.629210376246192,
          0.629210376246192,
          0.629210376246192,
          0.629210376246192,
          0.629210376246192,
          0.629210376246192,
          0.629210376246192,
          0.629210376246192,
          0.629210376246192,
          0.629210376246192,
          0.629210376246192,
          0.629210376246192,
          0.629210376246192,
          0.629210376246192,
          0.629210376246192,
          0.629210376246192,
          0.629210376246192,
          0.629210376246192,
          0.629210376246192,
          0.629210376246192,
          0.629210376246192,
          0.629210376246192,
          0.629210376246192,
          0.629210376246192,
          0.629210376246192,
          0.629210376246192,
          0.629210376246192,
          0.629210376246192,
          0.629210376246192,
          0.5757366579928203,
          0.5757366579928203,
          0.5757366579928203,
          0.5757366579928203,
          0.5757366579928203,
          0.5757366579928203,
          0.5757366579928203,
          0.5730764769396046,
          0.5730764769396046,
          0.5730764769396046,
          0.5730764769396046,
          0.36733081287820823,
          0.29614307095471304,
          0.29614307095471304,
          0.29614307095471304,
          0.29614307095471304,
          0.29614307095471304,
          0.29614307095471304,
          0.29614307095471304,
          0.29614307095471304,
          0.29614307095471304,
          0.29614307095471304,
          0.29614307095471304,
          0.29614307095471304,
          0.29614307095471304,
          0.29614307095471304,
          0.29614307095471304,
          0.29614307095471304,
          0.29614307095471304,
          0.29614307095471304,
          0.29614307095471304,
          0.29614307095471304,
          0.29614307095471304,
          0.29614307095471304,
          0.29614307095471304,
          0.29614307095471304,
          0.29614307095471304,
          0.29614307095471304,
          0.29614307095471304,
          0.29614307095471304,
          0.29614307095471304,
          0.29614307095471304,
          0.29614307095471304,
          0.29614307095471304,
          0.29614307095471304,
          0.29614307095471304,
          0.29614307095471304,
          0.29614307095471304,
          0.29614307095471304,
          0.29614307095471304,
          0.29614307095471304,
          0.29614307095471304,
          0.29614307095471304,
          0.29614307095471304,
          0.29614307095471304,
          0.29614307095471304,
          0.29614307095471304,
          0.29614307095471304,
          0.29614307095471304,
          0.29614307095471304,
          0.29614307095471304,
          0.21682062651962042,
          0.21682062651962042,
          0.21682062651962042,
          0.21682062651962042,
          0.21682062651962042,
          0.21682062651962042,
          0.21682062651962042,
          0.21682062651962042,
          0.21682062651962042,
          0.21682062651962042
         ]
        },
        {
         "fill": "tonexty",
         "fillcolor": "rgba(128,177,211,0.3)",
         "legendgroup": "objective value",
         "line": {
          "color": "rgba(128,177,211,1)"
         },
         "mode": "lines",
         "name": "objective value",
         "text": [
          "<br><em>Parameterization:</em><br>num_branch: 10<br>hidden_size: 120<br>hidden_depth: 4<br>learning_rate: 0.014092396114749071<br>num_input: 100<br>num_output: 100<br>dim_output: 1<br>batch_size: 500<br>epochs: 200",
          "<br><em>Parameterization:</em><br>num_branch: 30<br>hidden_size: 80<br>hidden_depth: 3<br>learning_rate: 0.003647897937959207<br>num_input: 100<br>num_output: 100<br>dim_output: 1<br>batch_size: 500<br>epochs: 200",
          "<br><em>Parameterization:</em><br>num_branch: 30<br>hidden_size: 120<br>hidden_depth: 3<br>learning_rate: 0.009687722323501551<br>num_input: 100<br>num_output: 100<br>dim_output: 1<br>batch_size: 500<br>epochs: 200",
          "<br><em>Parameterization:</em><br>num_branch: 10<br>hidden_size: 120<br>hidden_depth: 2<br>learning_rate: 0.0075295790878409374<br>num_input: 100<br>num_output: 100<br>dim_output: 1<br>batch_size: 500<br>epochs: 200",
          "<br><em>Parameterization:</em><br>num_branch: 30<br>hidden_size: 80<br>hidden_depth: 4<br>learning_rate: 0.0017059577617955623<br>num_input: 100<br>num_output: 100<br>dim_output: 1<br>batch_size: 500<br>epochs: 200",
          "<br><em>Parameterization:</em><br>num_branch: 10<br>hidden_size: 40<br>hidden_depth: 2<br>learning_rate: 0.01914736863739416<br>num_input: 100<br>num_output: 100<br>dim_output: 1<br>batch_size: 500<br>epochs: 200",
          "<br><em>Parameterization:</em><br>num_branch: 10<br>hidden_size: 40<br>hidden_depth: 3<br>learning_rate: 0.001404498113308254<br>num_input: 100<br>num_output: 100<br>dim_output: 1<br>batch_size: 500<br>epochs: 200",
          "<br><em>Parameterization:</em><br>num_branch: 10<br>hidden_size: 160<br>hidden_depth: 3<br>learning_rate: 0.003767784905228609<br>num_input: 100<br>num_output: 100<br>dim_output: 1<br>batch_size: 500<br>epochs: 200",
          "<br><em>Parameterization:</em><br>num_branch: 10<br>hidden_size: 120<br>hidden_depth: 3<br>learning_rate: 0.008029136016776423<br>num_input: 100<br>num_output: 100<br>dim_output: 1<br>batch_size: 500<br>epochs: 200",
          "<br><em>Parameterization:</em><br>num_branch: 10<br>hidden_size: 160<br>hidden_depth: 3<br>learning_rate: 0.010874512227604199<br>num_input: 100<br>num_output: 100<br>dim_output: 1<br>batch_size: 500<br>epochs: 200",
          "<br><em>Parameterization:</em><br>num_branch: 30<br>hidden_size: 80<br>hidden_depth: 2<br>learning_rate: 0.002190220506023024<br>num_input: 100<br>num_output: 100<br>dim_output: 1<br>batch_size: 500<br>epochs: 200",
          "<br><em>Parameterization:</em><br>num_branch: 30<br>hidden_size: 80<br>hidden_depth: 4<br>learning_rate: 0.005624963839853544<br>num_input: 100<br>num_output: 100<br>dim_output: 1<br>batch_size: 500<br>epochs: 200",
          "<br><em>Parameterization:</em><br>num_branch: 30<br>hidden_size: 80<br>hidden_depth: 3<br>learning_rate: 0.005985712304834137<br>num_input: 100<br>num_output: 100<br>dim_output: 1<br>batch_size: 500<br>epochs: 200",
          "<br><em>Parameterization:</em><br>num_branch: 40<br>hidden_size: 160<br>hidden_depth: 4<br>learning_rate: 0.001<br>num_input: 100<br>num_output: 100<br>dim_output: 1<br>batch_size: 500<br>epochs: 200",
          "<br><em>Parameterization:</em><br>num_branch: 20<br>hidden_size: 80<br>hidden_depth: 4<br>learning_rate: 0.00498074761052459<br>num_input: 100<br>num_output: 100<br>dim_output: 1<br>batch_size: 500<br>epochs: 200",
          "<br><em>Parameterization:</em><br>num_branch: 10<br>hidden_size: 160<br>hidden_depth: 2<br>learning_rate: 0.006454012257110765<br>num_input: 100<br>num_output: 100<br>dim_output: 1<br>batch_size: 500<br>epochs: 200",
          "<br><em>Parameterization:</em><br>num_branch: 10<br>hidden_size: 160<br>hidden_depth: 3<br>learning_rate: 0.006628438044928013<br>num_input: 100<br>num_output: 100<br>dim_output: 1<br>batch_size: 500<br>epochs: 200",
          "<br><em>Parameterization:</em><br>num_branch: 10<br>hidden_size: 160<br>hidden_depth: 2<br>learning_rate: 0.006888750866007423<br>num_input: 100<br>num_output: 100<br>dim_output: 1<br>batch_size: 500<br>epochs: 200",
          "<br><em>Parameterization:</em><br>num_branch: 10<br>hidden_size: 160<br>hidden_depth: 2<br>learning_rate: 0.008511339284822029<br>num_input: 100<br>num_output: 100<br>dim_output: 1<br>batch_size: 500<br>epochs: 200",
          "<br><em>Parameterization:</em><br>num_branch: 30<br>hidden_size: 80<br>hidden_depth: 4<br>learning_rate: 0.006451690090777418<br>num_input: 100<br>num_output: 100<br>dim_output: 1<br>batch_size: 500<br>epochs: 200",
          "<br><em>Parameterization:</em><br>num_branch: 20<br>hidden_size: 120<br>hidden_depth: 4<br>learning_rate: 0.005548637705383897<br>num_input: 100<br>num_output: 100<br>dim_output: 1<br>batch_size: 500<br>epochs: 200",
          "<br><em>Parameterization:</em><br>num_branch: 20<br>hidden_size: 120<br>hidden_depth: 4<br>learning_rate: 0.0067099093452615225<br>num_input: 100<br>num_output: 100<br>dim_output: 1<br>batch_size: 500<br>epochs: 200",
          "<br><em>Parameterization:</em><br>num_branch: 30<br>hidden_size: 80<br>hidden_depth: 3<br>learning_rate: 0.005478243335739566<br>num_input: 100<br>num_output: 100<br>dim_output: 1<br>batch_size: 500<br>epochs: 200",
          "<br><em>Parameterization:</em><br>num_branch: 40<br>hidden_size: 160<br>hidden_depth: 2<br>learning_rate: 0.02<br>num_input: 100<br>num_output: 100<br>dim_output: 1<br>batch_size: 500<br>epochs: 200",
          "<br><em>Parameterization:</em><br>num_branch: 30<br>hidden_size: 80<br>hidden_depth: 3<br>learning_rate: 0.006056151165633632<br>num_input: 100<br>num_output: 100<br>dim_output: 1<br>batch_size: 500<br>epochs: 200",
          "<br><em>Parameterization:</em><br>num_branch: 10<br>hidden_size: 120<br>hidden_depth: 4<br>learning_rate: 0.006674058014598283<br>num_input: 100<br>num_output: 100<br>dim_output: 1<br>batch_size: 500<br>epochs: 200",
          "<br><em>Parameterization:</em><br>num_branch: 40<br>hidden_size: 160<br>hidden_depth: 2<br>learning_rate: 0.0056963129417135225<br>num_input: 100<br>num_output: 100<br>dim_output: 1<br>batch_size: 500<br>epochs: 200",
          "<br><em>Parameterization:</em><br>num_branch: 30<br>hidden_size: 160<br>hidden_depth: 2<br>learning_rate: 0.0047275329669135635<br>num_input: 100<br>num_output: 100<br>dim_output: 1<br>batch_size: 500<br>epochs: 200",
          "<br><em>Parameterization:</em><br>num_branch: 20<br>hidden_size: 80<br>hidden_depth: 3<br>learning_rate: 0.006495906483122188<br>num_input: 100<br>num_output: 100<br>dim_output: 1<br>batch_size: 500<br>epochs: 200",
          "<br><em>Parameterization:</em><br>num_branch: 10<br>hidden_size: 160<br>hidden_depth: 4<br>learning_rate: 0.008851513284468909<br>num_input: 100<br>num_output: 100<br>dim_output: 1<br>batch_size: 500<br>epochs: 200",
          "<br><em>Parameterization:</em><br>num_branch: 10<br>hidden_size: 160<br>hidden_depth: 4<br>learning_rate: 0.012361234797833437<br>num_input: 100<br>num_output: 100<br>dim_output: 1<br>batch_size: 500<br>epochs: 200",
          "<br><em>Parameterization:</em><br>num_branch: 10<br>hidden_size: 160<br>hidden_depth: 3<br>learning_rate: 0.008436417483790341<br>num_input: 100<br>num_output: 100<br>dim_output: 1<br>batch_size: 500<br>epochs: 200",
          "<br><em>Parameterization:</em><br>num_branch: 10<br>hidden_size: 120<br>hidden_depth: 4<br>learning_rate: 0.008116129937568967<br>num_input: 100<br>num_output: 100<br>dim_output: 1<br>batch_size: 500<br>epochs: 200",
          "<br><em>Parameterization:</em><br>num_branch: 10<br>hidden_size: 160<br>hidden_depth: 4<br>learning_rate: 0.007504485126701335<br>num_input: 100<br>num_output: 100<br>dim_output: 1<br>batch_size: 500<br>epochs: 200",
          "<br><em>Parameterization:</em><br>num_branch: 20<br>hidden_size: 120<br>hidden_depth: 4<br>learning_rate: 0.007476688536998628<br>num_input: 100<br>num_output: 100<br>dim_output: 1<br>batch_size: 500<br>epochs: 200",
          "<br><em>Parameterization:</em><br>num_branch: 30<br>hidden_size: 80<br>hidden_depth: 3<br>learning_rate: 0.006630367780620211<br>num_input: 100<br>num_output: 100<br>dim_output: 1<br>batch_size: 500<br>epochs: 200",
          "<br><em>Parameterization:</em><br>num_branch: 10<br>hidden_size: 120<br>hidden_depth: 4<br>learning_rate: 0.008449625158270916<br>num_input: 100<br>num_output: 100<br>dim_output: 1<br>batch_size: 500<br>epochs: 200",
          "<br><em>Parameterization:</em><br>num_branch: 10<br>hidden_size: 120<br>hidden_depth: 4<br>learning_rate: 0.009095669959100999<br>num_input: 100<br>num_output: 100<br>dim_output: 1<br>batch_size: 500<br>epochs: 200",
          "<br><em>Parameterization:</em><br>num_branch: 10<br>hidden_size: 40<br>hidden_depth: 4<br>learning_rate: 0.006682594700439425<br>num_input: 100<br>num_output: 100<br>dim_output: 1<br>batch_size: 500<br>epochs: 200",
          "<br><em>Parameterization:</em><br>num_branch: 10<br>hidden_size: 40<br>hidden_depth: 2<br>learning_rate: 0.004520991002552037<br>num_input: 100<br>num_output: 100<br>dim_output: 1<br>batch_size: 500<br>epochs: 200",
          "<br><em>Parameterization:</em><br>num_branch: 20<br>hidden_size: 120<br>hidden_depth: 4<br>learning_rate: 0.008001768978792914<br>num_input: 100<br>num_output: 100<br>dim_output: 1<br>batch_size: 500<br>epochs: 200",
          "<br><em>Parameterization:</em><br>num_branch: 20<br>hidden_size: 120<br>hidden_depth: 4<br>learning_rate: 0.00863991675200672<br>num_input: 100<br>num_output: 100<br>dim_output: 1<br>batch_size: 500<br>epochs: 200",
          "<br><em>Parameterization:</em><br>num_branch: 20<br>hidden_size: 120<br>hidden_depth: 4<br>learning_rate: 0.009352402443604621<br>num_input: 100<br>num_output: 100<br>dim_output: 1<br>batch_size: 500<br>epochs: 200",
          "<br><em>Parameterization:</em><br>num_branch: 20<br>hidden_size: 80<br>hidden_depth: 4<br>learning_rate: 0.00717069606232992<br>num_input: 100<br>num_output: 100<br>dim_output: 1<br>batch_size: 500<br>epochs: 200",
          "<br><em>Parameterization:</em><br>num_branch: 30<br>hidden_size: 40<br>hidden_depth: 4<br>learning_rate: 0.006339026408795465<br>num_input: 100<br>num_output: 100<br>dim_output: 1<br>batch_size: 500<br>epochs: 200",
          "<br><em>Parameterization:</em><br>num_branch: 20<br>hidden_size: 160<br>hidden_depth: 3<br>learning_rate: 0.005137153841970396<br>num_input: 100<br>num_output: 100<br>dim_output: 1<br>batch_size: 500<br>epochs: 200",
          "<br><em>Parameterization:</em><br>num_branch: 10<br>hidden_size: 160<br>hidden_depth: 4<br>learning_rate: 0.0044964391932028926<br>num_input: 100<br>num_output: 100<br>dim_output: 1<br>batch_size: 500<br>epochs: 200",
          "<br><em>Parameterization:</em><br>num_branch: 10<br>hidden_size: 120<br>hidden_depth: 4<br>learning_rate: 0.012353580348815599<br>num_input: 100<br>num_output: 100<br>dim_output: 1<br>batch_size: 500<br>epochs: 200",
          "<br><em>Parameterization:</em><br>num_branch: 40<br>hidden_size: 40<br>hidden_depth: 2<br>learning_rate: 0.006814662103101494<br>num_input: 100<br>num_output: 100<br>dim_output: 1<br>batch_size: 500<br>epochs: 200",
          "<br><em>Parameterization:</em><br>num_branch: 10<br>hidden_size: 160<br>hidden_depth: 3<br>learning_rate: 0.010233924747614665<br>num_input: 100<br>num_output: 100<br>dim_output: 1<br>batch_size: 500<br>epochs: 200",
          "<br><em>Parameterization:</em><br>num_branch: 10<br>hidden_size: 160<br>hidden_depth: 4<br>learning_rate: 0.005382608581001769<br>num_input: 100<br>num_output: 100<br>dim_output: 1<br>batch_size: 500<br>epochs: 200",
          "<br><em>Parameterization:</em><br>num_branch: 20<br>hidden_size: 160<br>hidden_depth: 4<br>learning_rate: 0.0033705756550521395<br>num_input: 100<br>num_output: 100<br>dim_output: 1<br>batch_size: 500<br>epochs: 200",
          "<br><em>Parameterization:</em><br>num_branch: 10<br>hidden_size: 160<br>hidden_depth: 4<br>learning_rate: 0.003101495504410384<br>num_input: 100<br>num_output: 100<br>dim_output: 1<br>batch_size: 500<br>epochs: 200",
          "<br><em>Parameterization:</em><br>num_branch: 10<br>hidden_size: 160<br>hidden_depth: 4<br>learning_rate: 0.011467872438370195<br>num_input: 100<br>num_output: 100<br>dim_output: 1<br>batch_size: 500<br>epochs: 200",
          "<br><em>Parameterization:</em><br>num_branch: 20<br>hidden_size: 80<br>hidden_depth: 4<br>learning_rate: 0.0059760318470738994<br>num_input: 100<br>num_output: 100<br>dim_output: 1<br>batch_size: 500<br>epochs: 200",
          "<br><em>Parameterization:</em><br>num_branch: 10<br>hidden_size: 80<br>hidden_depth: 4<br>learning_rate: 0.008776713263755813<br>num_input: 100<br>num_output: 100<br>dim_output: 1<br>batch_size: 500<br>epochs: 200",
          "<br><em>Parameterization:</em><br>num_branch: 10<br>hidden_size: 80<br>hidden_depth: 4<br>learning_rate: 0.015622304320983297<br>num_input: 100<br>num_output: 100<br>dim_output: 1<br>batch_size: 500<br>epochs: 200",
          "<br><em>Parameterization:</em><br>num_branch: 40<br>hidden_size: 80<br>hidden_depth: 4<br>learning_rate: 0.007378542574273808<br>num_input: 100<br>num_output: 100<br>dim_output: 1<br>batch_size: 500<br>epochs: 200",
          "<br><em>Parameterization:</em><br>num_branch: 10<br>hidden_size: 120<br>hidden_depth: 4<br>learning_rate: 0.006432077528426789<br>num_input: 100<br>num_output: 100<br>dim_output: 1<br>batch_size: 500<br>epochs: 200",
          "<br><em>Parameterization:</em><br>num_branch: 40<br>hidden_size: 80<br>hidden_depth: 4<br>learning_rate: 0.005033451332739059<br>num_input: 100<br>num_output: 100<br>dim_output: 1<br>batch_size: 500<br>epochs: 200",
          "<br><em>Parameterization:</em><br>num_branch: 10<br>hidden_size: 160<br>hidden_depth: 4<br>learning_rate: 0.02<br>num_input: 100<br>num_output: 100<br>dim_output: 1<br>batch_size: 500<br>epochs: 200",
          "<br><em>Parameterization:</em><br>num_branch: 10<br>hidden_size: 160<br>hidden_depth: 3<br>learning_rate: 0.007481490454894334<br>num_input: 100<br>num_output: 100<br>dim_output: 1<br>batch_size: 500<br>epochs: 200",
          "<br><em>Parameterization:</em><br>num_branch: 40<br>hidden_size: 80<br>hidden_depth: 4<br>learning_rate: 0.005736329124728056<br>num_input: 100<br>num_output: 100<br>dim_output: 1<br>batch_size: 500<br>epochs: 200",
          "<br><em>Parameterization:</em><br>num_branch: 10<br>hidden_size: 160<br>hidden_depth: 4<br>learning_rate: 0.00729942951562417<br>num_input: 100<br>num_output: 100<br>dim_output: 1<br>batch_size: 500<br>epochs: 200",
          "<br><em>Parameterization:</em><br>num_branch: 40<br>hidden_size: 80<br>hidden_depth: 4<br>learning_rate: 0.005493905023570222<br>num_input: 100<br>num_output: 100<br>dim_output: 1<br>batch_size: 500<br>epochs: 200",
          "<br><em>Parameterization:</em><br>num_branch: 40<br>hidden_size: 40<br>hidden_depth: 4<br>learning_rate: 0.001<br>num_input: 100<br>num_output: 100<br>dim_output: 1<br>batch_size: 500<br>epochs: 200",
          "<br><em>Parameterization:</em><br>num_branch: 10<br>hidden_size: 160<br>hidden_depth: 3<br>learning_rate: 0.006532653158806927<br>num_input: 100<br>num_output: 100<br>dim_output: 1<br>batch_size: 500<br>epochs: 200",
          "<br><em>Parameterization:</em><br>num_branch: 30<br>hidden_size: 120<br>hidden_depth: 4<br>learning_rate: 0.0052144721020298546<br>num_input: 100<br>num_output: 100<br>dim_output: 1<br>batch_size: 500<br>epochs: 200",
          "<br><em>Parameterization:</em><br>num_branch: 20<br>hidden_size: 160<br>hidden_depth: 4<br>learning_rate: 0.005775983792864952<br>num_input: 100<br>num_output: 100<br>dim_output: 1<br>batch_size: 500<br>epochs: 200",
          "<br><em>Parameterization:</em><br>num_branch: 10<br>hidden_size: 160<br>hidden_depth: 2<br>learning_rate: 0.0038096087511240977<br>num_input: 100<br>num_output: 100<br>dim_output: 1<br>batch_size: 500<br>epochs: 200",
          "<br><em>Parameterization:</em><br>num_branch: 10<br>hidden_size: 160<br>hidden_depth: 2<br>learning_rate: 0.01121735385926004<br>num_input: 100<br>num_output: 100<br>dim_output: 1<br>batch_size: 500<br>epochs: 200",
          "<br><em>Parameterization:</em><br>num_branch: 20<br>hidden_size: 120<br>hidden_depth: 4<br>learning_rate: 0.005157983643964786<br>num_input: 100<br>num_output: 100<br>dim_output: 1<br>batch_size: 500<br>epochs: 200",
          "<br><em>Parameterization:</em><br>num_branch: 30<br>hidden_size: 120<br>hidden_depth: 4<br>learning_rate: 0.005598537563576571<br>num_input: 100<br>num_output: 100<br>dim_output: 1<br>batch_size: 500<br>epochs: 200",
          "<br><em>Parameterization:</em><br>num_branch: 30<br>hidden_size: 80<br>hidden_depth: 4<br>learning_rate: 0.005395431774660413<br>num_input: 100<br>num_output: 100<br>dim_output: 1<br>batch_size: 500<br>epochs: 200",
          "<br><em>Parameterization:</em><br>num_branch: 10<br>hidden_size: 120<br>hidden_depth: 3<br>learning_rate: 0.009591144051133515<br>num_input: 100<br>num_output: 100<br>dim_output: 1<br>batch_size: 500<br>epochs: 200",
          "<br><em>Parameterization:</em><br>num_branch: 20<br>hidden_size: 160<br>hidden_depth: 4<br>learning_rate: 0.004839250875961718<br>num_input: 100<br>num_output: 100<br>dim_output: 1<br>batch_size: 500<br>epochs: 200",
          "<br><em>Parameterization:</em><br>num_branch: 20<br>hidden_size: 120<br>hidden_depth: 4<br>learning_rate: 0.006323772075500231<br>num_input: 100<br>num_output: 100<br>dim_output: 1<br>batch_size: 500<br>epochs: 200",
          "<br><em>Parameterization:</em><br>num_branch: 10<br>hidden_size: 160<br>hidden_depth: 2<br>learning_rate: 0.0012943884494509463<br>num_input: 100<br>num_output: 100<br>dim_output: 1<br>batch_size: 500<br>epochs: 200",
          "<br><em>Parameterization:</em><br>num_branch: 10<br>hidden_size: 120<br>hidden_depth: 3<br>learning_rate: 0.010301671074017695<br>num_input: 100<br>num_output: 100<br>dim_output: 1<br>batch_size: 500<br>epochs: 200",
          "<br><em>Parameterization:</em><br>num_branch: 30<br>hidden_size: 120<br>hidden_depth: 4<br>learning_rate: 0.004345320148611159<br>num_input: 100<br>num_output: 100<br>dim_output: 1<br>batch_size: 500<br>epochs: 200",
          "<br><em>Parameterization:</em><br>num_branch: 10<br>hidden_size: 160<br>hidden_depth: 2<br>learning_rate: 0.009667881409054859<br>num_input: 100<br>num_output: 100<br>dim_output: 1<br>batch_size: 500<br>epochs: 200",
          "<br><em>Parameterization:</em><br>num_branch: 20<br>hidden_size: 120<br>hidden_depth: 4<br>learning_rate: 0.005898203588571016<br>num_input: 100<br>num_output: 100<br>dim_output: 1<br>batch_size: 500<br>epochs: 200",
          "<br><em>Parameterization:</em><br>num_branch: 30<br>hidden_size: 120<br>hidden_depth: 4<br>learning_rate: 0.005524811940457944<br>num_input: 100<br>num_output: 100<br>dim_output: 1<br>batch_size: 500<br>epochs: 200",
          "<br><em>Parameterization:</em><br>num_branch: 30<br>hidden_size: 120<br>hidden_depth: 4<br>learning_rate: 0.005715514979672586<br>num_input: 100<br>num_output: 100<br>dim_output: 1<br>batch_size: 500<br>epochs: 200",
          "<br><em>Parameterization:</em><br>num_branch: 20<br>hidden_size: 120<br>hidden_depth: 4<br>learning_rate: 0.005683890496487069<br>num_input: 100<br>num_output: 100<br>dim_output: 1<br>batch_size: 500<br>epochs: 200",
          "<br><em>Parameterization:</em><br>num_branch: 30<br>hidden_size: 80<br>hidden_depth: 4<br>learning_rate: 0.0056402730963072585<br>num_input: 100<br>num_output: 100<br>dim_output: 1<br>batch_size: 500<br>epochs: 200",
          "<br><em>Parameterization:</em><br>num_branch: 40<br>hidden_size: 40<br>hidden_depth: 4<br>learning_rate: 0.005283727744033485<br>num_input: 100<br>num_output: 100<br>dim_output: 1<br>batch_size: 500<br>epochs: 200",
          "<br><em>Parameterization:</em><br>num_branch: 40<br>hidden_size: 120<br>hidden_depth: 4<br>learning_rate: 0.004858598520196904<br>num_input: 100<br>num_output: 100<br>dim_output: 1<br>batch_size: 500<br>epochs: 200",
          "<br><em>Parameterization:</em><br>num_branch: 10<br>hidden_size: 160<br>hidden_depth: 3<br>learning_rate: 0.009641843482400159<br>num_input: 100<br>num_output: 100<br>dim_output: 1<br>batch_size: 500<br>epochs: 200",
          "<br><em>Parameterization:</em><br>num_branch: 20<br>hidden_size: 160<br>hidden_depth: 4<br>learning_rate: 0.006036643032864246<br>num_input: 100<br>num_output: 100<br>dim_output: 1<br>batch_size: 500<br>epochs: 200",
          "<br><em>Parameterization:</em><br>num_branch: 30<br>hidden_size: 160<br>hidden_depth: 4<br>learning_rate: 0.004755281941868054<br>num_input: 100<br>num_output: 100<br>dim_output: 1<br>batch_size: 500<br>epochs: 200",
          "<br><em>Parameterization:</em><br>num_branch: 40<br>hidden_size: 160<br>hidden_depth: 4<br>learning_rate: 0.0049204747276403345<br>num_input: 100<br>num_output: 100<br>dim_output: 1<br>batch_size: 500<br>epochs: 200",
          "<br><em>Parameterization:</em><br>num_branch: 20<br>hidden_size: 120<br>hidden_depth: 4<br>learning_rate: 0.0046183577938410615<br>num_input: 100<br>num_output: 100<br>dim_output: 1<br>batch_size: 500<br>epochs: 200",
          "<br><em>Parameterization:</em><br>num_branch: 40<br>hidden_size: 80<br>hidden_depth: 4<br>learning_rate: 0.004508283422489964<br>num_input: 100<br>num_output: 100<br>dim_output: 1<br>batch_size: 500<br>epochs: 200",
          "<br><em>Parameterization:</em><br>num_branch: 30<br>hidden_size: 120<br>hidden_depth: 4<br>learning_rate: 0.005391659759689795<br>num_input: 100<br>num_output: 100<br>dim_output: 1<br>batch_size: 500<br>epochs: 200",
          "<br><em>Parameterization:</em><br>num_branch: 40<br>hidden_size: 40<br>hidden_depth: 4<br>learning_rate: 0.008024942442901426<br>num_input: 100<br>num_output: 100<br>dim_output: 1<br>batch_size: 500<br>epochs: 200",
          "<br><em>Parameterization:</em><br>num_branch: 40<br>hidden_size: 160<br>hidden_depth: 2<br>learning_rate: 0.0019028483760784832<br>num_input: 100<br>num_output: 100<br>dim_output: 1<br>batch_size: 500<br>epochs: 200",
          "<br><em>Parameterization:</em><br>num_branch: 20<br>hidden_size: 160<br>hidden_depth: 3<br>learning_rate: 0.007392565264544637<br>num_input: 100<br>num_output: 100<br>dim_output: 1<br>batch_size: 500<br>epochs: 200",
          "<br><em>Parameterization:</em><br>num_branch: 40<br>hidden_size: 40<br>hidden_depth: 4<br>learning_rate: 0.005028260399874559<br>num_input: 100<br>num_output: 100<br>dim_output: 1<br>batch_size: 500<br>epochs: 200",
          "<br><em>Parameterization:</em><br>num_branch: 10<br>hidden_size: 160<br>hidden_depth: 4<br>learning_rate: 0.001<br>num_input: 100<br>num_output: 100<br>dim_output: 1<br>batch_size: 500<br>epochs: 200"
         ],
         "type": "scatter",
         "x": [
          1,
          2,
          3,
          4,
          5,
          6,
          7,
          8,
          9,
          10,
          11,
          12,
          13,
          14,
          15,
          16,
          17,
          18,
          19,
          20,
          21,
          22,
          23,
          24,
          25,
          26,
          27,
          28,
          29,
          30,
          31,
          32,
          33,
          34,
          35,
          36,
          37,
          38,
          39,
          40,
          41,
          42,
          43,
          44,
          45,
          46,
          47,
          48,
          49,
          50,
          51,
          52,
          53,
          54,
          55,
          56,
          57,
          58,
          59,
          60,
          61,
          62,
          63,
          64,
          65,
          66,
          67,
          68,
          69,
          70,
          71,
          72,
          73,
          74,
          75,
          76,
          77,
          78,
          79,
          80,
          81,
          82,
          83,
          84,
          85,
          86,
          87,
          88,
          89,
          90,
          91,
          92,
          93,
          94,
          95,
          96,
          97,
          98,
          99,
          100
         ],
         "y": [
          0.629210376246192,
          0.629210376246192,
          0.629210376246192,
          0.629210376246192,
          0.629210376246192,
          0.629210376246192,
          0.629210376246192,
          0.629210376246192,
          0.629210376246192,
          0.629210376246192,
          0.629210376246192,
          0.629210376246192,
          0.629210376246192,
          0.629210376246192,
          0.629210376246192,
          0.629210376246192,
          0.629210376246192,
          0.629210376246192,
          0.629210376246192,
          0.629210376246192,
          0.629210376246192,
          0.629210376246192,
          0.629210376246192,
          0.629210376246192,
          0.629210376246192,
          0.629210376246192,
          0.629210376246192,
          0.629210376246192,
          0.629210376246192,
          0.5757366579928203,
          0.5757366579928203,
          0.5757366579928203,
          0.5757366579928203,
          0.5757366579928203,
          0.5757366579928203,
          0.5757366579928203,
          0.5730764769396046,
          0.5730764769396046,
          0.5730764769396046,
          0.5730764769396046,
          0.36733081287820823,
          0.29614307095471304,
          0.29614307095471304,
          0.29614307095471304,
          0.29614307095471304,
          0.29614307095471304,
          0.29614307095471304,
          0.29614307095471304,
          0.29614307095471304,
          0.29614307095471304,
          0.29614307095471304,
          0.29614307095471304,
          0.29614307095471304,
          0.29614307095471304,
          0.29614307095471304,
          0.29614307095471304,
          0.29614307095471304,
          0.29614307095471304,
          0.29614307095471304,
          0.29614307095471304,
          0.29614307095471304,
          0.29614307095471304,
          0.29614307095471304,
          0.29614307095471304,
          0.29614307095471304,
          0.29614307095471304,
          0.29614307095471304,
          0.29614307095471304,
          0.29614307095471304,
          0.29614307095471304,
          0.29614307095471304,
          0.29614307095471304,
          0.29614307095471304,
          0.29614307095471304,
          0.29614307095471304,
          0.29614307095471304,
          0.29614307095471304,
          0.29614307095471304,
          0.29614307095471304,
          0.29614307095471304,
          0.29614307095471304,
          0.29614307095471304,
          0.29614307095471304,
          0.29614307095471304,
          0.29614307095471304,
          0.29614307095471304,
          0.29614307095471304,
          0.29614307095471304,
          0.29614307095471304,
          0.29614307095471304,
          0.21682062651962042,
          0.21682062651962042,
          0.21682062651962042,
          0.21682062651962042,
          0.21682062651962042,
          0.21682062651962042,
          0.21682062651962042,
          0.21682062651962042,
          0.21682062651962042,
          0.21682062651962042
         ]
        },
        {
         "fill": "tonexty",
         "fillcolor": "rgba(128,177,211,0.3)",
         "hoverinfo": "none",
         "legendgroup": "",
         "line": {
          "width": 0
         },
         "mode": "lines",
         "showlegend": false,
         "type": "scatter",
         "x": [
          1,
          2,
          3,
          4,
          5,
          6,
          7,
          8,
          9,
          10,
          11,
          12,
          13,
          14,
          15,
          16,
          17,
          18,
          19,
          20,
          21,
          22,
          23,
          24,
          25,
          26,
          27,
          28,
          29,
          30,
          31,
          32,
          33,
          34,
          35,
          36,
          37,
          38,
          39,
          40,
          41,
          42,
          43,
          44,
          45,
          46,
          47,
          48,
          49,
          50,
          51,
          52,
          53,
          54,
          55,
          56,
          57,
          58,
          59,
          60,
          61,
          62,
          63,
          64,
          65,
          66,
          67,
          68,
          69,
          70,
          71,
          72,
          73,
          74,
          75,
          76,
          77,
          78,
          79,
          80,
          81,
          82,
          83,
          84,
          85,
          86,
          87,
          88,
          89,
          90,
          91,
          92,
          93,
          94,
          95,
          96,
          97,
          98,
          99,
          100
         ],
         "y": [
          0.629210376246192,
          0.629210376246192,
          0.629210376246192,
          0.629210376246192,
          0.629210376246192,
          0.629210376246192,
          0.629210376246192,
          0.629210376246192,
          0.629210376246192,
          0.629210376246192,
          0.629210376246192,
          0.629210376246192,
          0.629210376246192,
          0.629210376246192,
          0.629210376246192,
          0.629210376246192,
          0.629210376246192,
          0.629210376246192,
          0.629210376246192,
          0.629210376246192,
          0.629210376246192,
          0.629210376246192,
          0.629210376246192,
          0.629210376246192,
          0.629210376246192,
          0.629210376246192,
          0.629210376246192,
          0.629210376246192,
          0.629210376246192,
          0.5757366579928203,
          0.5757366579928203,
          0.5757366579928203,
          0.5757366579928203,
          0.5757366579928203,
          0.5757366579928203,
          0.5757366579928203,
          0.5730764769396046,
          0.5730764769396046,
          0.5730764769396046,
          0.5730764769396046,
          0.36733081287820823,
          0.29614307095471304,
          0.29614307095471304,
          0.29614307095471304,
          0.29614307095471304,
          0.29614307095471304,
          0.29614307095471304,
          0.29614307095471304,
          0.29614307095471304,
          0.29614307095471304,
          0.29614307095471304,
          0.29614307095471304,
          0.29614307095471304,
          0.29614307095471304,
          0.29614307095471304,
          0.29614307095471304,
          0.29614307095471304,
          0.29614307095471304,
          0.29614307095471304,
          0.29614307095471304,
          0.29614307095471304,
          0.29614307095471304,
          0.29614307095471304,
          0.29614307095471304,
          0.29614307095471304,
          0.29614307095471304,
          0.29614307095471304,
          0.29614307095471304,
          0.29614307095471304,
          0.29614307095471304,
          0.29614307095471304,
          0.29614307095471304,
          0.29614307095471304,
          0.29614307095471304,
          0.29614307095471304,
          0.29614307095471304,
          0.29614307095471304,
          0.29614307095471304,
          0.29614307095471304,
          0.29614307095471304,
          0.29614307095471304,
          0.29614307095471304,
          0.29614307095471304,
          0.29614307095471304,
          0.29614307095471304,
          0.29614307095471304,
          0.29614307095471304,
          0.29614307095471304,
          0.29614307095471304,
          0.29614307095471304,
          0.21682062651962042,
          0.21682062651962042,
          0.21682062651962042,
          0.21682062651962042,
          0.21682062651962042,
          0.21682062651962042,
          0.21682062651962042,
          0.21682062651962042,
          0.21682062651962042,
          0.21682062651962042
         ]
        },
        {
         "line": {
          "color": "rgba(141,211,199,1)",
          "dash": "dash"
         },
         "mode": "lines",
         "name": "model change",
         "type": "scatter",
         "x": [
          8,
          8
         ],
         "y": [
          0.21682062651962042,
          0.629210376246192
         ]
        }
       ],
       "layout": {
        "showlegend": true,
        "template": {
         "data": {
          "bar": [
           {
            "error_x": {
             "color": "#2a3f5f"
            },
            "error_y": {
             "color": "#2a3f5f"
            },
            "marker": {
             "line": {
              "color": "#E5ECF6",
              "width": 0.5
             },
             "pattern": {
              "fillmode": "overlay",
              "size": 10,
              "solidity": 0.2
             }
            },
            "type": "bar"
           }
          ],
          "barpolar": [
           {
            "marker": {
             "line": {
              "color": "#E5ECF6",
              "width": 0.5
             },
             "pattern": {
              "fillmode": "overlay",
              "size": 10,
              "solidity": 0.2
             }
            },
            "type": "barpolar"
           }
          ],
          "carpet": [
           {
            "aaxis": {
             "endlinecolor": "#2a3f5f",
             "gridcolor": "white",
             "linecolor": "white",
             "minorgridcolor": "white",
             "startlinecolor": "#2a3f5f"
            },
            "baxis": {
             "endlinecolor": "#2a3f5f",
             "gridcolor": "white",
             "linecolor": "white",
             "minorgridcolor": "white",
             "startlinecolor": "#2a3f5f"
            },
            "type": "carpet"
           }
          ],
          "choropleth": [
           {
            "colorbar": {
             "outlinewidth": 0,
             "ticks": ""
            },
            "type": "choropleth"
           }
          ],
          "contour": [
           {
            "colorbar": {
             "outlinewidth": 0,
             "ticks": ""
            },
            "colorscale": [
             [
              0,
              "#0d0887"
             ],
             [
              0.1111111111111111,
              "#46039f"
             ],
             [
              0.2222222222222222,
              "#7201a8"
             ],
             [
              0.3333333333333333,
              "#9c179e"
             ],
             [
              0.4444444444444444,
              "#bd3786"
             ],
             [
              0.5555555555555556,
              "#d8576b"
             ],
             [
              0.6666666666666666,
              "#ed7953"
             ],
             [
              0.7777777777777778,
              "#fb9f3a"
             ],
             [
              0.8888888888888888,
              "#fdca26"
             ],
             [
              1,
              "#f0f921"
             ]
            ],
            "type": "contour"
           }
          ],
          "contourcarpet": [
           {
            "colorbar": {
             "outlinewidth": 0,
             "ticks": ""
            },
            "type": "contourcarpet"
           }
          ],
          "heatmap": [
           {
            "colorbar": {
             "outlinewidth": 0,
             "ticks": ""
            },
            "colorscale": [
             [
              0,
              "#0d0887"
             ],
             [
              0.1111111111111111,
              "#46039f"
             ],
             [
              0.2222222222222222,
              "#7201a8"
             ],
             [
              0.3333333333333333,
              "#9c179e"
             ],
             [
              0.4444444444444444,
              "#bd3786"
             ],
             [
              0.5555555555555556,
              "#d8576b"
             ],
             [
              0.6666666666666666,
              "#ed7953"
             ],
             [
              0.7777777777777778,
              "#fb9f3a"
             ],
             [
              0.8888888888888888,
              "#fdca26"
             ],
             [
              1,
              "#f0f921"
             ]
            ],
            "type": "heatmap"
           }
          ],
          "heatmapgl": [
           {
            "colorbar": {
             "outlinewidth": 0,
             "ticks": ""
            },
            "colorscale": [
             [
              0,
              "#0d0887"
             ],
             [
              0.1111111111111111,
              "#46039f"
             ],
             [
              0.2222222222222222,
              "#7201a8"
             ],
             [
              0.3333333333333333,
              "#9c179e"
             ],
             [
              0.4444444444444444,
              "#bd3786"
             ],
             [
              0.5555555555555556,
              "#d8576b"
             ],
             [
              0.6666666666666666,
              "#ed7953"
             ],
             [
              0.7777777777777778,
              "#fb9f3a"
             ],
             [
              0.8888888888888888,
              "#fdca26"
             ],
             [
              1,
              "#f0f921"
             ]
            ],
            "type": "heatmapgl"
           }
          ],
          "histogram": [
           {
            "marker": {
             "pattern": {
              "fillmode": "overlay",
              "size": 10,
              "solidity": 0.2
             }
            },
            "type": "histogram"
           }
          ],
          "histogram2d": [
           {
            "colorbar": {
             "outlinewidth": 0,
             "ticks": ""
            },
            "colorscale": [
             [
              0,
              "#0d0887"
             ],
             [
              0.1111111111111111,
              "#46039f"
             ],
             [
              0.2222222222222222,
              "#7201a8"
             ],
             [
              0.3333333333333333,
              "#9c179e"
             ],
             [
              0.4444444444444444,
              "#bd3786"
             ],
             [
              0.5555555555555556,
              "#d8576b"
             ],
             [
              0.6666666666666666,
              "#ed7953"
             ],
             [
              0.7777777777777778,
              "#fb9f3a"
             ],
             [
              0.8888888888888888,
              "#fdca26"
             ],
             [
              1,
              "#f0f921"
             ]
            ],
            "type": "histogram2d"
           }
          ],
          "histogram2dcontour": [
           {
            "colorbar": {
             "outlinewidth": 0,
             "ticks": ""
            },
            "colorscale": [
             [
              0,
              "#0d0887"
             ],
             [
              0.1111111111111111,
              "#46039f"
             ],
             [
              0.2222222222222222,
              "#7201a8"
             ],
             [
              0.3333333333333333,
              "#9c179e"
             ],
             [
              0.4444444444444444,
              "#bd3786"
             ],
             [
              0.5555555555555556,
              "#d8576b"
             ],
             [
              0.6666666666666666,
              "#ed7953"
             ],
             [
              0.7777777777777778,
              "#fb9f3a"
             ],
             [
              0.8888888888888888,
              "#fdca26"
             ],
             [
              1,
              "#f0f921"
             ]
            ],
            "type": "histogram2dcontour"
           }
          ],
          "mesh3d": [
           {
            "colorbar": {
             "outlinewidth": 0,
             "ticks": ""
            },
            "type": "mesh3d"
           }
          ],
          "parcoords": [
           {
            "line": {
             "colorbar": {
              "outlinewidth": 0,
              "ticks": ""
             }
            },
            "type": "parcoords"
           }
          ],
          "pie": [
           {
            "automargin": true,
            "type": "pie"
           }
          ],
          "scatter": [
           {
            "fillpattern": {
             "fillmode": "overlay",
             "size": 10,
             "solidity": 0.2
            },
            "type": "scatter"
           }
          ],
          "scatter3d": [
           {
            "line": {
             "colorbar": {
              "outlinewidth": 0,
              "ticks": ""
             }
            },
            "marker": {
             "colorbar": {
              "outlinewidth": 0,
              "ticks": ""
             }
            },
            "type": "scatter3d"
           }
          ],
          "scattercarpet": [
           {
            "marker": {
             "colorbar": {
              "outlinewidth": 0,
              "ticks": ""
             }
            },
            "type": "scattercarpet"
           }
          ],
          "scattergeo": [
           {
            "marker": {
             "colorbar": {
              "outlinewidth": 0,
              "ticks": ""
             }
            },
            "type": "scattergeo"
           }
          ],
          "scattergl": [
           {
            "marker": {
             "colorbar": {
              "outlinewidth": 0,
              "ticks": ""
             }
            },
            "type": "scattergl"
           }
          ],
          "scattermapbox": [
           {
            "marker": {
             "colorbar": {
              "outlinewidth": 0,
              "ticks": ""
             }
            },
            "type": "scattermapbox"
           }
          ],
          "scatterpolar": [
           {
            "marker": {
             "colorbar": {
              "outlinewidth": 0,
              "ticks": ""
             }
            },
            "type": "scatterpolar"
           }
          ],
          "scatterpolargl": [
           {
            "marker": {
             "colorbar": {
              "outlinewidth": 0,
              "ticks": ""
             }
            },
            "type": "scatterpolargl"
           }
          ],
          "scatterternary": [
           {
            "marker": {
             "colorbar": {
              "outlinewidth": 0,
              "ticks": ""
             }
            },
            "type": "scatterternary"
           }
          ],
          "surface": [
           {
            "colorbar": {
             "outlinewidth": 0,
             "ticks": ""
            },
            "colorscale": [
             [
              0,
              "#0d0887"
             ],
             [
              0.1111111111111111,
              "#46039f"
             ],
             [
              0.2222222222222222,
              "#7201a8"
             ],
             [
              0.3333333333333333,
              "#9c179e"
             ],
             [
              0.4444444444444444,
              "#bd3786"
             ],
             [
              0.5555555555555556,
              "#d8576b"
             ],
             [
              0.6666666666666666,
              "#ed7953"
             ],
             [
              0.7777777777777778,
              "#fb9f3a"
             ],
             [
              0.8888888888888888,
              "#fdca26"
             ],
             [
              1,
              "#f0f921"
             ]
            ],
            "type": "surface"
           }
          ],
          "table": [
           {
            "cells": {
             "fill": {
              "color": "#EBF0F8"
             },
             "line": {
              "color": "white"
             }
            },
            "header": {
             "fill": {
              "color": "#C8D4E3"
             },
             "line": {
              "color": "white"
             }
            },
            "type": "table"
           }
          ]
         },
         "layout": {
          "annotationdefaults": {
           "arrowcolor": "#2a3f5f",
           "arrowhead": 0,
           "arrowwidth": 1
          },
          "autotypenumbers": "strict",
          "coloraxis": {
           "colorbar": {
            "outlinewidth": 0,
            "ticks": ""
           }
          },
          "colorscale": {
           "diverging": [
            [
             0,
             "#8e0152"
            ],
            [
             0.1,
             "#c51b7d"
            ],
            [
             0.2,
             "#de77ae"
            ],
            [
             0.3,
             "#f1b6da"
            ],
            [
             0.4,
             "#fde0ef"
            ],
            [
             0.5,
             "#f7f7f7"
            ],
            [
             0.6,
             "#e6f5d0"
            ],
            [
             0.7,
             "#b8e186"
            ],
            [
             0.8,
             "#7fbc41"
            ],
            [
             0.9,
             "#4d9221"
            ],
            [
             1,
             "#276419"
            ]
           ],
           "sequential": [
            [
             0,
             "#0d0887"
            ],
            [
             0.1111111111111111,
             "#46039f"
            ],
            [
             0.2222222222222222,
             "#7201a8"
            ],
            [
             0.3333333333333333,
             "#9c179e"
            ],
            [
             0.4444444444444444,
             "#bd3786"
            ],
            [
             0.5555555555555556,
             "#d8576b"
            ],
            [
             0.6666666666666666,
             "#ed7953"
            ],
            [
             0.7777777777777778,
             "#fb9f3a"
            ],
            [
             0.8888888888888888,
             "#fdca26"
            ],
            [
             1,
             "#f0f921"
            ]
           ],
           "sequentialminus": [
            [
             0,
             "#0d0887"
            ],
            [
             0.1111111111111111,
             "#46039f"
            ],
            [
             0.2222222222222222,
             "#7201a8"
            ],
            [
             0.3333333333333333,
             "#9c179e"
            ],
            [
             0.4444444444444444,
             "#bd3786"
            ],
            [
             0.5555555555555556,
             "#d8576b"
            ],
            [
             0.6666666666666666,
             "#ed7953"
            ],
            [
             0.7777777777777778,
             "#fb9f3a"
            ],
            [
             0.8888888888888888,
             "#fdca26"
            ],
            [
             1,
             "#f0f921"
            ]
           ]
          },
          "colorway": [
           "#636efa",
           "#EF553B",
           "#00cc96",
           "#ab63fa",
           "#FFA15A",
           "#19d3f3",
           "#FF6692",
           "#B6E880",
           "#FF97FF",
           "#FECB52"
          ],
          "font": {
           "color": "#2a3f5f"
          },
          "geo": {
           "bgcolor": "white",
           "lakecolor": "white",
           "landcolor": "#E5ECF6",
           "showlakes": true,
           "showland": true,
           "subunitcolor": "white"
          },
          "hoverlabel": {
           "align": "left"
          },
          "hovermode": "closest",
          "mapbox": {
           "style": "light"
          },
          "paper_bgcolor": "white",
          "plot_bgcolor": "#E5ECF6",
          "polar": {
           "angularaxis": {
            "gridcolor": "white",
            "linecolor": "white",
            "ticks": ""
           },
           "bgcolor": "#E5ECF6",
           "radialaxis": {
            "gridcolor": "white",
            "linecolor": "white",
            "ticks": ""
           }
          },
          "scene": {
           "xaxis": {
            "backgroundcolor": "#E5ECF6",
            "gridcolor": "white",
            "gridwidth": 2,
            "linecolor": "white",
            "showbackground": true,
            "ticks": "",
            "zerolinecolor": "white"
           },
           "yaxis": {
            "backgroundcolor": "#E5ECF6",
            "gridcolor": "white",
            "gridwidth": 2,
            "linecolor": "white",
            "showbackground": true,
            "ticks": "",
            "zerolinecolor": "white"
           },
           "zaxis": {
            "backgroundcolor": "#E5ECF6",
            "gridcolor": "white",
            "gridwidth": 2,
            "linecolor": "white",
            "showbackground": true,
            "ticks": "",
            "zerolinecolor": "white"
           }
          },
          "shapedefaults": {
           "line": {
            "color": "#2a3f5f"
           }
          },
          "ternary": {
           "aaxis": {
            "gridcolor": "white",
            "linecolor": "white",
            "ticks": ""
           },
           "baxis": {
            "gridcolor": "white",
            "linecolor": "white",
            "ticks": ""
           },
           "bgcolor": "#E5ECF6",
           "caxis": {
            "gridcolor": "white",
            "linecolor": "white",
            "ticks": ""
           }
          },
          "title": {
           "x": 0.05
          },
          "xaxis": {
           "automargin": true,
           "gridcolor": "white",
           "linecolor": "white",
           "ticks": "",
           "title": {
            "standoff": 15
           },
           "zerolinecolor": "white",
           "zerolinewidth": 2
          },
          "yaxis": {
           "automargin": true,
           "gridcolor": "white",
           "linecolor": "white",
           "ticks": "",
           "title": {
            "standoff": 15
           },
           "zerolinecolor": "white",
           "zerolinewidth": 2
          }
         }
        },
        "title": {
         "text": "Model performance vs. # of iterations"
        },
        "xaxis": {
         "title": {
          "text": "Iteration"
         }
        },
        "yaxis": {
         "title": {
          "text": "Evaluate_model"
         }
        }
       }
      }
     },
     "metadata": {},
     "output_type": "display_data"
    }
   ],
   "source": [
    "render(ax_client.get_optimization_trace())"
   ]
  },
  {
   "cell_type": "code",
   "execution_count": 23,
   "id": "efa4e0c5",
   "metadata": {},
   "outputs": [
    {
     "data": {
      "text/plain": [
       "(99,\n",
       " {'num_branch': 20,\n",
       "  'hidden_size': 120,\n",
       "  'hidden_depth': 4,\n",
       "  'learning_rate': 0.005548637705383897,\n",
       "  'num_input': 100,\n",
       "  'num_output': 100,\n",
       "  'dim_output': 1,\n",
       "  'batch_size': 500,\n",
       "  'epochs': 200},\n",
       " ({'evaluate_model': 0.4888443210730218},\n",
       "  {'evaluate_model': {'evaluate_model': 0.8415911472557052}}))"
      ]
     },
     "execution_count": 23,
     "metadata": {},
     "output_type": "execute_result"
    }
   ],
   "source": [
    "ax_client.get_best_trial()"
   ]
  },
  {
   "cell_type": "code",
   "execution_count": 24,
   "id": "1bcd1c14",
   "metadata": {},
   "outputs": [],
   "source": [
    "from ax.plot.scatter import interact_fitted, plot_objective_vs_constraints, tile_fitted\n",
    "from ax.plot.slice import plot_slice"
   ]
  },
  {
   "cell_type": "code",
   "execution_count": 25,
   "id": "fa2c8949",
   "metadata": {},
   "outputs": [],
   "source": [
    "ax_model = ax_client.generation_strategy.model"
   ]
  },
  {
   "cell_type": "code",
   "execution_count": 26,
   "id": "422f17ab",
   "metadata": {},
   "outputs": [
    {
     "data": {
      "application/vnd.plotly.v1+json": {
       "config": {
        "linkText": "Export to plot.ly",
        "plotlyServerURL": "https://plot.ly",
        "showLink": false
       },
       "data": [
        {
         "fill": "toself",
         "fillcolor": "rgba(128, 177, 211, 0.2)",
         "hoverinfo": "none",
         "line": {
          "color": "rgba(128, 177, 211, 0.0)"
         },
         "showlegend": false,
         "type": "scatter",
         "visible": true,
         "x": [
          0.001,
          0.0010630449594493912,
          0.001130064585810758,
          0.0012013094617983916,
          0.0012770459681036414,
          0.0013575572793777442,
          0.00144314442300634,
          0.0015341274046343915,
          0.0016308464046497666,
          0.0017336630500990968,
          0.0018429617667915024,
          0.0019591512166456534,
          0.002082665825654304,
          0.0022139674081793127,
          0.0023535468936502517,
          0.002501926162122675,
          0.00265965999555907,
          0.00282733815212826,
          0.003005587571278903,
          0.0031950747178317762,
          0.0033965080738552595,
          0.0036106407876409946,
          0.0038382734896841393,
          0.004080257286196954,
          0.004337496941348324,
          0.004610954260127488,
          0.004901651684480223,
          0.0052106761161633194,
          0.005539182980610753,
          0.005888400547006117,
          0.006259634520713891,
          0.006654272925240316,
          0.007073791291977273,
          0.007519758177133439,
          0.007993841026480045,
          0.008497812409839359,
          0.009033556648626226,
          0.009603076861222646,
          0.010208502452527815,
          0.010852097075686448,
          0.011536267095763959,
          0.01226357058701375,
          0.01303672689737678,
          0.013858626815974695,
          0.014732343381612067,
          0.015661143372700317,
          0.01664849952156331,
          0.01769810349879349,
          0.018813879716206055,
          0.020000000000000004,
          0.020000000000000004,
          0.018813879716206055,
          0.01769810349879349,
          0.01664849952156331,
          0.015661143372700317,
          0.014732343381612067,
          0.013858626815974695,
          0.01303672689737678,
          0.01226357058701375,
          0.011536267095763959,
          0.010852097075686448,
          0.010208502452527815,
          0.009603076861222646,
          0.009033556648626226,
          0.008497812409839359,
          0.007993841026480045,
          0.007519758177133439,
          0.007073791291977273,
          0.006654272925240316,
          0.006259634520713891,
          0.005888400547006117,
          0.005539182980610753,
          0.0052106761161633194,
          0.004901651684480223,
          0.004610954260127488,
          0.004337496941348324,
          0.004080257286196954,
          0.0038382734896841393,
          0.0036106407876409946,
          0.0033965080738552595,
          0.0031950747178317762,
          0.003005587571278903,
          0.00282733815212826,
          0.00265965999555907,
          0.002501926162122675,
          0.0023535468936502517,
          0.0022139674081793127,
          0.002082665825654304,
          0.0019591512166456534,
          0.0018429617667915024,
          0.0017336630500990968,
          0.0016308464046497666,
          0.0015341274046343915,
          0.00144314442300634,
          0.0013575572793777442,
          0.0012770459681036414,
          0.0012013094617983916,
          0.001130064585810758,
          0.0010630449594493912,
          0.001
         ],
         "y": [
          19.148465923106095,
          19.032608709766517,
          18.89252057502565,
          18.723499309194672,
          18.519575327375204,
          18.27346075516388,
          17.976663494637908,
          17.61979098156949,
          17.193046865858534,
          16.686912797333285,
          16.09301330386678,
          15.405183116309848,
          14.620785325134143,
          13.742352424660826,
          12.779616354614395,
          11.751894368994101,
          10.690425302759227,
          9.639191312121325,
          8.65059700929672,
          7.770896358991781,
          7.018449080658049,
          6.379854820019904,
          5.830882278642715,
          5.356633882031055,
          4.957406148951686,
          4.64089241277013,
          4.406448792167916,
          4.238652872330355,
          4.114046960534372,
          4.006461033816924,
          3.897717034291695,
          3.793171762518011,
          3.727148652657339,
          3.7506204400839995,
          3.902125537657836,
          4.189808149651466,
          4.60004247251605,
          5.104769280298708,
          5.6705323741083795,
          6.276899933261053,
          6.926735798040615,
          7.641285203061328,
          8.437620378751275,
          9.301912718297228,
          10.198834583721961,
          11.092518171496671,
          11.958660558584405,
          12.790836014175738,
          13.601184278265976,
          14.410607265098548,
          7.2860053709632036,
          6.820563765571102,
          6.207507953519645,
          5.528231630021863,
          4.859181544298444,
          4.251028362938857,
          3.720232596591164,
          3.2485494689946464,
          2.7914456186289343,
          2.300430496547441,
          1.7586488346990596,
          1.2029932405029835,
          0.694209502511256,
          0.27946788383833754,
          -0.022651756050155125,
          -0.22122431922279473,
          -0.34456955666228906,
          -0.42350611568610264,
          -0.4734054203000828,
          -0.4966448724336452,
          -0.49529661560724136,
          -0.4755795787680439,
          -0.4426909271519035,
          -0.39100084651398914,
          -0.30280326981602323,
          -0.15493717992816514,
          0.07583228590745916,
          0.40165889329037574,
          0.809938636060656,
          1.2587955452496784,
          1.6875294933403624,
          2.042943933925434,
          2.3071636974055054,
          2.496966412870534,
          2.641334150056407,
          2.765989452322371,
          2.8883707663759317,
          3.017828213903364,
          3.1573830559635443,
          3.3055890833091857,
          3.458100631056481,
          3.608920589757238,
          3.7513939463915476,
          3.8790110694199855,
          3.986055631073433,
          4.068100090828492,
          4.122330699710069,
          4.147681868743565,
          4.144776802477025,
          4.115699391876647
         ]
        },
        {
         "hoverinfo": "x+y",
         "line": {
          "color": "rgba(128, 177, 211, 1)"
         },
         "showlegend": false,
         "type": "scatter",
         "visible": true,
         "x": [
          0.001,
          0.0010630449594493912,
          0.001130064585810758,
          0.0012013094617983916,
          0.0012770459681036414,
          0.0013575572793777442,
          0.00144314442300634,
          0.0015341274046343915,
          0.0016308464046497666,
          0.0017336630500990968,
          0.0018429617667915024,
          0.0019591512166456534,
          0.002082665825654304,
          0.0022139674081793127,
          0.0023535468936502517,
          0.002501926162122675,
          0.00265965999555907,
          0.00282733815212826,
          0.003005587571278903,
          0.0031950747178317762,
          0.0033965080738552595,
          0.0036106407876409946,
          0.0038382734896841393,
          0.004080257286196954,
          0.004337496941348324,
          0.004610954260127488,
          0.004901651684480223,
          0.0052106761161633194,
          0.005539182980610753,
          0.005888400547006117,
          0.006259634520713891,
          0.006654272925240316,
          0.007073791291977273,
          0.007519758177133439,
          0.007993841026480045,
          0.008497812409839359,
          0.009033556648626226,
          0.009603076861222646,
          0.010208502452527815,
          0.010852097075686448,
          0.011536267095763959,
          0.01226357058701375,
          0.01303672689737678,
          0.013858626815974695,
          0.014732343381612067,
          0.015661143372700317,
          0.01664849952156331,
          0.01769810349879349,
          0.018813879716206055,
          0.020000000000000004
         ],
         "y": [
          11.63208265749137,
          11.588692756121771,
          11.520101221884607,
          11.42291500445237,
          11.293837709101847,
          11.129758193118658,
          10.927837282028946,
          10.68559246398052,
          10.400983727807887,
          10.072506714194883,
          9.699301193587983,
          9.281283086136696,
          8.819306769518754,
          8.315361595518379,
          7.772802903468383,
          7.196614259525254,
          6.593695857814881,
          5.973177504763415,
          5.346770471611077,
          4.729212926166071,
          4.1386223129538635,
          3.59489672804028,
          3.1162705859665456,
          2.7162330839692572,
          2.4012344845117606,
          2.169044571477053,
          2.0077239728269634,
          1.8979809725892256,
          1.8192336908831641,
          1.7555822091048414,
          1.7005360809290249,
          1.659883171108964,
          1.6518212684856182,
          1.7030254417108552,
          1.8404506092175206,
          2.0835781968006555,
          2.439755178177194,
          2.899489391404982,
          3.4367628073056813,
          4.017774383980056,
          4.613583147294028,
          5.216365410845131,
          5.8430849238729605,
          6.5110726574441955,
          7.224931473330409,
          7.975849857897558,
          8.743446094303135,
          9.499171983847692,
          10.210874021918539,
          10.848306318030875
         ]
        },
        {
         "error_y": {
          "array": [
           null,
           null,
           null,
           null,
           null,
           null,
           null,
           null,
           null
          ],
          "color": "black",
          "type": "data",
          "visible": true
         },
         "hoverinfo": "x+y",
         "line": {
          "color": "black"
         },
         "mode": "markers",
         "showlegend": false,
         "type": "scatter",
         "visible": true,
         "x": [
          0.008851513284468909,
          0.012361234797833437,
          0.007504485126701335,
          0.0044964391932028926,
          0.005382608581001769,
          0.003101495504410384,
          0.011467872438370195,
          0.02,
          0.00729942951562417
         ],
         "y": [
          0.5757366579928203,
          1.3241041870060144,
          1.2220074495417066,
          1.2251382486283546,
          1.9503648218233138,
          5.6185144785558805,
          1461.7058914154768,
          2422.376349568367,
          0.6644576615144615
         ]
        }
       ],
       "layout": {
        "hovermode": "closest",
        "template": {
         "data": {
          "bar": [
           {
            "error_x": {
             "color": "#2a3f5f"
            },
            "error_y": {
             "color": "#2a3f5f"
            },
            "marker": {
             "line": {
              "color": "#E5ECF6",
              "width": 0.5
             },
             "pattern": {
              "fillmode": "overlay",
              "size": 10,
              "solidity": 0.2
             }
            },
            "type": "bar"
           }
          ],
          "barpolar": [
           {
            "marker": {
             "line": {
              "color": "#E5ECF6",
              "width": 0.5
             },
             "pattern": {
              "fillmode": "overlay",
              "size": 10,
              "solidity": 0.2
             }
            },
            "type": "barpolar"
           }
          ],
          "carpet": [
           {
            "aaxis": {
             "endlinecolor": "#2a3f5f",
             "gridcolor": "white",
             "linecolor": "white",
             "minorgridcolor": "white",
             "startlinecolor": "#2a3f5f"
            },
            "baxis": {
             "endlinecolor": "#2a3f5f",
             "gridcolor": "white",
             "linecolor": "white",
             "minorgridcolor": "white",
             "startlinecolor": "#2a3f5f"
            },
            "type": "carpet"
           }
          ],
          "choropleth": [
           {
            "colorbar": {
             "outlinewidth": 0,
             "ticks": ""
            },
            "type": "choropleth"
           }
          ],
          "contour": [
           {
            "colorbar": {
             "outlinewidth": 0,
             "ticks": ""
            },
            "colorscale": [
             [
              0,
              "#0d0887"
             ],
             [
              0.1111111111111111,
              "#46039f"
             ],
             [
              0.2222222222222222,
              "#7201a8"
             ],
             [
              0.3333333333333333,
              "#9c179e"
             ],
             [
              0.4444444444444444,
              "#bd3786"
             ],
             [
              0.5555555555555556,
              "#d8576b"
             ],
             [
              0.6666666666666666,
              "#ed7953"
             ],
             [
              0.7777777777777778,
              "#fb9f3a"
             ],
             [
              0.8888888888888888,
              "#fdca26"
             ],
             [
              1,
              "#f0f921"
             ]
            ],
            "type": "contour"
           }
          ],
          "contourcarpet": [
           {
            "colorbar": {
             "outlinewidth": 0,
             "ticks": ""
            },
            "type": "contourcarpet"
           }
          ],
          "heatmap": [
           {
            "colorbar": {
             "outlinewidth": 0,
             "ticks": ""
            },
            "colorscale": [
             [
              0,
              "#0d0887"
             ],
             [
              0.1111111111111111,
              "#46039f"
             ],
             [
              0.2222222222222222,
              "#7201a8"
             ],
             [
              0.3333333333333333,
              "#9c179e"
             ],
             [
              0.4444444444444444,
              "#bd3786"
             ],
             [
              0.5555555555555556,
              "#d8576b"
             ],
             [
              0.6666666666666666,
              "#ed7953"
             ],
             [
              0.7777777777777778,
              "#fb9f3a"
             ],
             [
              0.8888888888888888,
              "#fdca26"
             ],
             [
              1,
              "#f0f921"
             ]
            ],
            "type": "heatmap"
           }
          ],
          "heatmapgl": [
           {
            "colorbar": {
             "outlinewidth": 0,
             "ticks": ""
            },
            "colorscale": [
             [
              0,
              "#0d0887"
             ],
             [
              0.1111111111111111,
              "#46039f"
             ],
             [
              0.2222222222222222,
              "#7201a8"
             ],
             [
              0.3333333333333333,
              "#9c179e"
             ],
             [
              0.4444444444444444,
              "#bd3786"
             ],
             [
              0.5555555555555556,
              "#d8576b"
             ],
             [
              0.6666666666666666,
              "#ed7953"
             ],
             [
              0.7777777777777778,
              "#fb9f3a"
             ],
             [
              0.8888888888888888,
              "#fdca26"
             ],
             [
              1,
              "#f0f921"
             ]
            ],
            "type": "heatmapgl"
           }
          ],
          "histogram": [
           {
            "marker": {
             "pattern": {
              "fillmode": "overlay",
              "size": 10,
              "solidity": 0.2
             }
            },
            "type": "histogram"
           }
          ],
          "histogram2d": [
           {
            "colorbar": {
             "outlinewidth": 0,
             "ticks": ""
            },
            "colorscale": [
             [
              0,
              "#0d0887"
             ],
             [
              0.1111111111111111,
              "#46039f"
             ],
             [
              0.2222222222222222,
              "#7201a8"
             ],
             [
              0.3333333333333333,
              "#9c179e"
             ],
             [
              0.4444444444444444,
              "#bd3786"
             ],
             [
              0.5555555555555556,
              "#d8576b"
             ],
             [
              0.6666666666666666,
              "#ed7953"
             ],
             [
              0.7777777777777778,
              "#fb9f3a"
             ],
             [
              0.8888888888888888,
              "#fdca26"
             ],
             [
              1,
              "#f0f921"
             ]
            ],
            "type": "histogram2d"
           }
          ],
          "histogram2dcontour": [
           {
            "colorbar": {
             "outlinewidth": 0,
             "ticks": ""
            },
            "colorscale": [
             [
              0,
              "#0d0887"
             ],
             [
              0.1111111111111111,
              "#46039f"
             ],
             [
              0.2222222222222222,
              "#7201a8"
             ],
             [
              0.3333333333333333,
              "#9c179e"
             ],
             [
              0.4444444444444444,
              "#bd3786"
             ],
             [
              0.5555555555555556,
              "#d8576b"
             ],
             [
              0.6666666666666666,
              "#ed7953"
             ],
             [
              0.7777777777777778,
              "#fb9f3a"
             ],
             [
              0.8888888888888888,
              "#fdca26"
             ],
             [
              1,
              "#f0f921"
             ]
            ],
            "type": "histogram2dcontour"
           }
          ],
          "mesh3d": [
           {
            "colorbar": {
             "outlinewidth": 0,
             "ticks": ""
            },
            "type": "mesh3d"
           }
          ],
          "parcoords": [
           {
            "line": {
             "colorbar": {
              "outlinewidth": 0,
              "ticks": ""
             }
            },
            "type": "parcoords"
           }
          ],
          "pie": [
           {
            "automargin": true,
            "type": "pie"
           }
          ],
          "scatter": [
           {
            "fillpattern": {
             "fillmode": "overlay",
             "size": 10,
             "solidity": 0.2
            },
            "type": "scatter"
           }
          ],
          "scatter3d": [
           {
            "line": {
             "colorbar": {
              "outlinewidth": 0,
              "ticks": ""
             }
            },
            "marker": {
             "colorbar": {
              "outlinewidth": 0,
              "ticks": ""
             }
            },
            "type": "scatter3d"
           }
          ],
          "scattercarpet": [
           {
            "marker": {
             "colorbar": {
              "outlinewidth": 0,
              "ticks": ""
             }
            },
            "type": "scattercarpet"
           }
          ],
          "scattergeo": [
           {
            "marker": {
             "colorbar": {
              "outlinewidth": 0,
              "ticks": ""
             }
            },
            "type": "scattergeo"
           }
          ],
          "scattergl": [
           {
            "marker": {
             "colorbar": {
              "outlinewidth": 0,
              "ticks": ""
             }
            },
            "type": "scattergl"
           }
          ],
          "scattermapbox": [
           {
            "marker": {
             "colorbar": {
              "outlinewidth": 0,
              "ticks": ""
             }
            },
            "type": "scattermapbox"
           }
          ],
          "scatterpolar": [
           {
            "marker": {
             "colorbar": {
              "outlinewidth": 0,
              "ticks": ""
             }
            },
            "type": "scatterpolar"
           }
          ],
          "scatterpolargl": [
           {
            "marker": {
             "colorbar": {
              "outlinewidth": 0,
              "ticks": ""
             }
            },
            "type": "scatterpolargl"
           }
          ],
          "scatterternary": [
           {
            "marker": {
             "colorbar": {
              "outlinewidth": 0,
              "ticks": ""
             }
            },
            "type": "scatterternary"
           }
          ],
          "surface": [
           {
            "colorbar": {
             "outlinewidth": 0,
             "ticks": ""
            },
            "colorscale": [
             [
              0,
              "#0d0887"
             ],
             [
              0.1111111111111111,
              "#46039f"
             ],
             [
              0.2222222222222222,
              "#7201a8"
             ],
             [
              0.3333333333333333,
              "#9c179e"
             ],
             [
              0.4444444444444444,
              "#bd3786"
             ],
             [
              0.5555555555555556,
              "#d8576b"
             ],
             [
              0.6666666666666666,
              "#ed7953"
             ],
             [
              0.7777777777777778,
              "#fb9f3a"
             ],
             [
              0.8888888888888888,
              "#fdca26"
             ],
             [
              1,
              "#f0f921"
             ]
            ],
            "type": "surface"
           }
          ],
          "table": [
           {
            "cells": {
             "fill": {
              "color": "#EBF0F8"
             },
             "line": {
              "color": "white"
             }
            },
            "header": {
             "fill": {
              "color": "#C8D4E3"
             },
             "line": {
              "color": "white"
             }
            },
            "type": "table"
           }
          ]
         },
         "layout": {
          "annotationdefaults": {
           "arrowcolor": "#2a3f5f",
           "arrowhead": 0,
           "arrowwidth": 1
          },
          "autotypenumbers": "strict",
          "coloraxis": {
           "colorbar": {
            "outlinewidth": 0,
            "ticks": ""
           }
          },
          "colorscale": {
           "diverging": [
            [
             0,
             "#8e0152"
            ],
            [
             0.1,
             "#c51b7d"
            ],
            [
             0.2,
             "#de77ae"
            ],
            [
             0.3,
             "#f1b6da"
            ],
            [
             0.4,
             "#fde0ef"
            ],
            [
             0.5,
             "#f7f7f7"
            ],
            [
             0.6,
             "#e6f5d0"
            ],
            [
             0.7,
             "#b8e186"
            ],
            [
             0.8,
             "#7fbc41"
            ],
            [
             0.9,
             "#4d9221"
            ],
            [
             1,
             "#276419"
            ]
           ],
           "sequential": [
            [
             0,
             "#0d0887"
            ],
            [
             0.1111111111111111,
             "#46039f"
            ],
            [
             0.2222222222222222,
             "#7201a8"
            ],
            [
             0.3333333333333333,
             "#9c179e"
            ],
            [
             0.4444444444444444,
             "#bd3786"
            ],
            [
             0.5555555555555556,
             "#d8576b"
            ],
            [
             0.6666666666666666,
             "#ed7953"
            ],
            [
             0.7777777777777778,
             "#fb9f3a"
            ],
            [
             0.8888888888888888,
             "#fdca26"
            ],
            [
             1,
             "#f0f921"
            ]
           ],
           "sequentialminus": [
            [
             0,
             "#0d0887"
            ],
            [
             0.1111111111111111,
             "#46039f"
            ],
            [
             0.2222222222222222,
             "#7201a8"
            ],
            [
             0.3333333333333333,
             "#9c179e"
            ],
            [
             0.4444444444444444,
             "#bd3786"
            ],
            [
             0.5555555555555556,
             "#d8576b"
            ],
            [
             0.6666666666666666,
             "#ed7953"
            ],
            [
             0.7777777777777778,
             "#fb9f3a"
            ],
            [
             0.8888888888888888,
             "#fdca26"
            ],
            [
             1,
             "#f0f921"
            ]
           ]
          },
          "colorway": [
           "#636efa",
           "#EF553B",
           "#00cc96",
           "#ab63fa",
           "#FFA15A",
           "#19d3f3",
           "#FF6692",
           "#B6E880",
           "#FF97FF",
           "#FECB52"
          ],
          "font": {
           "color": "#2a3f5f"
          },
          "geo": {
           "bgcolor": "white",
           "lakecolor": "white",
           "landcolor": "#E5ECF6",
           "showlakes": true,
           "showland": true,
           "subunitcolor": "white"
          },
          "hoverlabel": {
           "align": "left"
          },
          "hovermode": "closest",
          "mapbox": {
           "style": "light"
          },
          "paper_bgcolor": "white",
          "plot_bgcolor": "#E5ECF6",
          "polar": {
           "angularaxis": {
            "gridcolor": "white",
            "linecolor": "white",
            "ticks": ""
           },
           "bgcolor": "#E5ECF6",
           "radialaxis": {
            "gridcolor": "white",
            "linecolor": "white",
            "ticks": ""
           }
          },
          "scene": {
           "xaxis": {
            "backgroundcolor": "#E5ECF6",
            "gridcolor": "white",
            "gridwidth": 2,
            "linecolor": "white",
            "showbackground": true,
            "ticks": "",
            "zerolinecolor": "white"
           },
           "yaxis": {
            "backgroundcolor": "#E5ECF6",
            "gridcolor": "white",
            "gridwidth": 2,
            "linecolor": "white",
            "showbackground": true,
            "ticks": "",
            "zerolinecolor": "white"
           },
           "zaxis": {
            "backgroundcolor": "#E5ECF6",
            "gridcolor": "white",
            "gridwidth": 2,
            "linecolor": "white",
            "showbackground": true,
            "ticks": "",
            "zerolinecolor": "white"
           }
          },
          "shapedefaults": {
           "line": {
            "color": "#2a3f5f"
           }
          },
          "ternary": {
           "aaxis": {
            "gridcolor": "white",
            "linecolor": "white",
            "ticks": ""
           },
           "baxis": {
            "gridcolor": "white",
            "linecolor": "white",
            "ticks": ""
           },
           "bgcolor": "#E5ECF6",
           "caxis": {
            "gridcolor": "white",
            "linecolor": "white",
            "ticks": ""
           }
          },
          "title": {
           "x": 0.05
          },
          "xaxis": {
           "automargin": true,
           "gridcolor": "white",
           "linecolor": "white",
           "ticks": "",
           "title": {
            "standoff": 15
           },
           "zerolinecolor": "white",
           "zerolinewidth": 2
          },
          "yaxis": {
           "automargin": true,
           "gridcolor": "white",
           "linecolor": "white",
           "ticks": "",
           "title": {
            "standoff": 15
           },
           "zerolinecolor": "white",
           "zerolinewidth": 2
          }
         }
        },
        "xaxis": {
         "anchor": "y",
         "autorange": false,
         "exponentformat": "e",
         "range": [
          -3,
          -1.6989700043360187
         ],
         "tickfont": {
          "size": 11
         },
         "tickmode": "auto",
         "title": {
          "text": "learning_rate"
         },
         "type": "log"
        },
        "yaxis": {
         "anchor": "x",
         "tickfont": {
          "size": 11
         },
         "tickmode": "auto",
         "title": {
          "text": "evaluate_model"
         }
        }
       }
      }
     },
     "metadata": {},
     "output_type": "display_data"
    }
   ],
   "source": [
    "render(plot_slice(ax_model, \"learning_rate\", \"evaluate_model\"))"
   ]
  },
  {
   "cell_type": "code",
   "execution_count": 27,
   "id": "081567f4",
   "metadata": {},
   "outputs": [
    {
     "data": {
      "text/plain": [
       "{'num_branch': 20,\n",
       " 'hidden_size': 120,\n",
       " 'hidden_depth': 4,\n",
       " 'learning_rate': 0.005548637705383897,\n",
       " 'num_input': 100,\n",
       " 'num_output': 100,\n",
       " 'dim_output': 1,\n",
       " 'batch_size': 500,\n",
       " 'epochs': 200}"
      ]
     },
     "execution_count": 27,
     "metadata": {},
     "output_type": "execute_result"
    }
   ],
   "source": [
    "best_param, _ = ax_client.get_best_parameters()\n",
    "best_param"
   ]
  },
  {
   "cell_type": "code",
   "execution_count": 31,
   "id": "ae1e4dcf",
   "metadata": {},
   "outputs": [
    {
     "data": {
      "application/vnd.plotly.v1+json": {
       "config": {
        "linkText": "Export to plot.ly",
        "plotlyServerURL": "https://plot.ly",
        "showLink": false
       },
       "data": [
        {
         "legendgroup": "1",
         "marker": {
          "color": "steelblue"
         },
         "name": "Increases metric",
         "opacity": 0.8,
         "orientation": "h",
         "showlegend": false,
         "type": "bar",
         "visible": true,
         "x": [
          0.156523251986758
         ],
         "y": [
          "hidden_depth"
         ]
        },
        {
         "legendgroup": "1",
         "marker": {
          "color": "steelblue"
         },
         "name": "Increases metric",
         "opacity": 0.8,
         "orientation": "h",
         "showlegend": false,
         "type": "bar",
         "visible": true,
         "x": [
          0.1841435805434607
         ],
         "y": [
          "num_branch"
         ]
        },
        {
         "legendgroup": "1",
         "marker": {
          "color": "steelblue"
         },
         "name": "Increases metric",
         "opacity": 0.8,
         "orientation": "h",
         "showlegend": false,
         "type": "bar",
         "visible": true,
         "x": [
          0.22630838070095083
         ],
         "y": [
          "hidden_size"
         ]
        },
        {
         "legendgroup": "1",
         "marker": {
          "color": "steelblue"
         },
         "name": "Increases metric",
         "opacity": 0.8,
         "orientation": "h",
         "showlegend": false,
         "type": "bar",
         "visible": true,
         "x": [
          0.4330247867688306
         ],
         "y": [
          "learning_rate"
         ]
        }
       ],
       "layout": {
        "height": 280,
        "hovermode": "closest",
        "margin": {
         "l": 104
        },
        "template": {
         "data": {
          "bar": [
           {
            "error_x": {
             "color": "#2a3f5f"
            },
            "error_y": {
             "color": "#2a3f5f"
            },
            "marker": {
             "line": {
              "color": "#E5ECF6",
              "width": 0.5
             },
             "pattern": {
              "fillmode": "overlay",
              "size": 10,
              "solidity": 0.2
             }
            },
            "type": "bar"
           }
          ],
          "barpolar": [
           {
            "marker": {
             "line": {
              "color": "#E5ECF6",
              "width": 0.5
             },
             "pattern": {
              "fillmode": "overlay",
              "size": 10,
              "solidity": 0.2
             }
            },
            "type": "barpolar"
           }
          ],
          "carpet": [
           {
            "aaxis": {
             "endlinecolor": "#2a3f5f",
             "gridcolor": "white",
             "linecolor": "white",
             "minorgridcolor": "white",
             "startlinecolor": "#2a3f5f"
            },
            "baxis": {
             "endlinecolor": "#2a3f5f",
             "gridcolor": "white",
             "linecolor": "white",
             "minorgridcolor": "white",
             "startlinecolor": "#2a3f5f"
            },
            "type": "carpet"
           }
          ],
          "choropleth": [
           {
            "colorbar": {
             "outlinewidth": 0,
             "ticks": ""
            },
            "type": "choropleth"
           }
          ],
          "contour": [
           {
            "colorbar": {
             "outlinewidth": 0,
             "ticks": ""
            },
            "colorscale": [
             [
              0,
              "#0d0887"
             ],
             [
              0.1111111111111111,
              "#46039f"
             ],
             [
              0.2222222222222222,
              "#7201a8"
             ],
             [
              0.3333333333333333,
              "#9c179e"
             ],
             [
              0.4444444444444444,
              "#bd3786"
             ],
             [
              0.5555555555555556,
              "#d8576b"
             ],
             [
              0.6666666666666666,
              "#ed7953"
             ],
             [
              0.7777777777777778,
              "#fb9f3a"
             ],
             [
              0.8888888888888888,
              "#fdca26"
             ],
             [
              1,
              "#f0f921"
             ]
            ],
            "type": "contour"
           }
          ],
          "contourcarpet": [
           {
            "colorbar": {
             "outlinewidth": 0,
             "ticks": ""
            },
            "type": "contourcarpet"
           }
          ],
          "heatmap": [
           {
            "colorbar": {
             "outlinewidth": 0,
             "ticks": ""
            },
            "colorscale": [
             [
              0,
              "#0d0887"
             ],
             [
              0.1111111111111111,
              "#46039f"
             ],
             [
              0.2222222222222222,
              "#7201a8"
             ],
             [
              0.3333333333333333,
              "#9c179e"
             ],
             [
              0.4444444444444444,
              "#bd3786"
             ],
             [
              0.5555555555555556,
              "#d8576b"
             ],
             [
              0.6666666666666666,
              "#ed7953"
             ],
             [
              0.7777777777777778,
              "#fb9f3a"
             ],
             [
              0.8888888888888888,
              "#fdca26"
             ],
             [
              1,
              "#f0f921"
             ]
            ],
            "type": "heatmap"
           }
          ],
          "heatmapgl": [
           {
            "colorbar": {
             "outlinewidth": 0,
             "ticks": ""
            },
            "colorscale": [
             [
              0,
              "#0d0887"
             ],
             [
              0.1111111111111111,
              "#46039f"
             ],
             [
              0.2222222222222222,
              "#7201a8"
             ],
             [
              0.3333333333333333,
              "#9c179e"
             ],
             [
              0.4444444444444444,
              "#bd3786"
             ],
             [
              0.5555555555555556,
              "#d8576b"
             ],
             [
              0.6666666666666666,
              "#ed7953"
             ],
             [
              0.7777777777777778,
              "#fb9f3a"
             ],
             [
              0.8888888888888888,
              "#fdca26"
             ],
             [
              1,
              "#f0f921"
             ]
            ],
            "type": "heatmapgl"
           }
          ],
          "histogram": [
           {
            "marker": {
             "pattern": {
              "fillmode": "overlay",
              "size": 10,
              "solidity": 0.2
             }
            },
            "type": "histogram"
           }
          ],
          "histogram2d": [
           {
            "colorbar": {
             "outlinewidth": 0,
             "ticks": ""
            },
            "colorscale": [
             [
              0,
              "#0d0887"
             ],
             [
              0.1111111111111111,
              "#46039f"
             ],
             [
              0.2222222222222222,
              "#7201a8"
             ],
             [
              0.3333333333333333,
              "#9c179e"
             ],
             [
              0.4444444444444444,
              "#bd3786"
             ],
             [
              0.5555555555555556,
              "#d8576b"
             ],
             [
              0.6666666666666666,
              "#ed7953"
             ],
             [
              0.7777777777777778,
              "#fb9f3a"
             ],
             [
              0.8888888888888888,
              "#fdca26"
             ],
             [
              1,
              "#f0f921"
             ]
            ],
            "type": "histogram2d"
           }
          ],
          "histogram2dcontour": [
           {
            "colorbar": {
             "outlinewidth": 0,
             "ticks": ""
            },
            "colorscale": [
             [
              0,
              "#0d0887"
             ],
             [
              0.1111111111111111,
              "#46039f"
             ],
             [
              0.2222222222222222,
              "#7201a8"
             ],
             [
              0.3333333333333333,
              "#9c179e"
             ],
             [
              0.4444444444444444,
              "#bd3786"
             ],
             [
              0.5555555555555556,
              "#d8576b"
             ],
             [
              0.6666666666666666,
              "#ed7953"
             ],
             [
              0.7777777777777778,
              "#fb9f3a"
             ],
             [
              0.8888888888888888,
              "#fdca26"
             ],
             [
              1,
              "#f0f921"
             ]
            ],
            "type": "histogram2dcontour"
           }
          ],
          "mesh3d": [
           {
            "colorbar": {
             "outlinewidth": 0,
             "ticks": ""
            },
            "type": "mesh3d"
           }
          ],
          "parcoords": [
           {
            "line": {
             "colorbar": {
              "outlinewidth": 0,
              "ticks": ""
             }
            },
            "type": "parcoords"
           }
          ],
          "pie": [
           {
            "automargin": true,
            "type": "pie"
           }
          ],
          "scatter": [
           {
            "fillpattern": {
             "fillmode": "overlay",
             "size": 10,
             "solidity": 0.2
            },
            "type": "scatter"
           }
          ],
          "scatter3d": [
           {
            "line": {
             "colorbar": {
              "outlinewidth": 0,
              "ticks": ""
             }
            },
            "marker": {
             "colorbar": {
              "outlinewidth": 0,
              "ticks": ""
             }
            },
            "type": "scatter3d"
           }
          ],
          "scattercarpet": [
           {
            "marker": {
             "colorbar": {
              "outlinewidth": 0,
              "ticks": ""
             }
            },
            "type": "scattercarpet"
           }
          ],
          "scattergeo": [
           {
            "marker": {
             "colorbar": {
              "outlinewidth": 0,
              "ticks": ""
             }
            },
            "type": "scattergeo"
           }
          ],
          "scattergl": [
           {
            "marker": {
             "colorbar": {
              "outlinewidth": 0,
              "ticks": ""
             }
            },
            "type": "scattergl"
           }
          ],
          "scattermapbox": [
           {
            "marker": {
             "colorbar": {
              "outlinewidth": 0,
              "ticks": ""
             }
            },
            "type": "scattermapbox"
           }
          ],
          "scatterpolar": [
           {
            "marker": {
             "colorbar": {
              "outlinewidth": 0,
              "ticks": ""
             }
            },
            "type": "scatterpolar"
           }
          ],
          "scatterpolargl": [
           {
            "marker": {
             "colorbar": {
              "outlinewidth": 0,
              "ticks": ""
             }
            },
            "type": "scatterpolargl"
           }
          ],
          "scatterternary": [
           {
            "marker": {
             "colorbar": {
              "outlinewidth": 0,
              "ticks": ""
             }
            },
            "type": "scatterternary"
           }
          ],
          "surface": [
           {
            "colorbar": {
             "outlinewidth": 0,
             "ticks": ""
            },
            "colorscale": [
             [
              0,
              "#0d0887"
             ],
             [
              0.1111111111111111,
              "#46039f"
             ],
             [
              0.2222222222222222,
              "#7201a8"
             ],
             [
              0.3333333333333333,
              "#9c179e"
             ],
             [
              0.4444444444444444,
              "#bd3786"
             ],
             [
              0.5555555555555556,
              "#d8576b"
             ],
             [
              0.6666666666666666,
              "#ed7953"
             ],
             [
              0.7777777777777778,
              "#fb9f3a"
             ],
             [
              0.8888888888888888,
              "#fdca26"
             ],
             [
              1,
              "#f0f921"
             ]
            ],
            "type": "surface"
           }
          ],
          "table": [
           {
            "cells": {
             "fill": {
              "color": "#EBF0F8"
             },
             "line": {
              "color": "white"
             }
            },
            "header": {
             "fill": {
              "color": "#C8D4E3"
             },
             "line": {
              "color": "white"
             }
            },
            "type": "table"
           }
          ]
         },
         "layout": {
          "annotationdefaults": {
           "arrowcolor": "#2a3f5f",
           "arrowhead": 0,
           "arrowwidth": 1
          },
          "autotypenumbers": "strict",
          "coloraxis": {
           "colorbar": {
            "outlinewidth": 0,
            "ticks": ""
           }
          },
          "colorscale": {
           "diverging": [
            [
             0,
             "#8e0152"
            ],
            [
             0.1,
             "#c51b7d"
            ],
            [
             0.2,
             "#de77ae"
            ],
            [
             0.3,
             "#f1b6da"
            ],
            [
             0.4,
             "#fde0ef"
            ],
            [
             0.5,
             "#f7f7f7"
            ],
            [
             0.6,
             "#e6f5d0"
            ],
            [
             0.7,
             "#b8e186"
            ],
            [
             0.8,
             "#7fbc41"
            ],
            [
             0.9,
             "#4d9221"
            ],
            [
             1,
             "#276419"
            ]
           ],
           "sequential": [
            [
             0,
             "#0d0887"
            ],
            [
             0.1111111111111111,
             "#46039f"
            ],
            [
             0.2222222222222222,
             "#7201a8"
            ],
            [
             0.3333333333333333,
             "#9c179e"
            ],
            [
             0.4444444444444444,
             "#bd3786"
            ],
            [
             0.5555555555555556,
             "#d8576b"
            ],
            [
             0.6666666666666666,
             "#ed7953"
            ],
            [
             0.7777777777777778,
             "#fb9f3a"
            ],
            [
             0.8888888888888888,
             "#fdca26"
            ],
            [
             1,
             "#f0f921"
            ]
           ],
           "sequentialminus": [
            [
             0,
             "#0d0887"
            ],
            [
             0.1111111111111111,
             "#46039f"
            ],
            [
             0.2222222222222222,
             "#7201a8"
            ],
            [
             0.3333333333333333,
             "#9c179e"
            ],
            [
             0.4444444444444444,
             "#bd3786"
            ],
            [
             0.5555555555555556,
             "#d8576b"
            ],
            [
             0.6666666666666666,
             "#ed7953"
            ],
            [
             0.7777777777777778,
             "#fb9f3a"
            ],
            [
             0.8888888888888888,
             "#fdca26"
            ],
            [
             1,
             "#f0f921"
            ]
           ]
          },
          "colorway": [
           "#636efa",
           "#EF553B",
           "#00cc96",
           "#ab63fa",
           "#FFA15A",
           "#19d3f3",
           "#FF6692",
           "#B6E880",
           "#FF97FF",
           "#FECB52"
          ],
          "font": {
           "color": "#2a3f5f"
          },
          "geo": {
           "bgcolor": "white",
           "lakecolor": "white",
           "landcolor": "#E5ECF6",
           "showlakes": true,
           "showland": true,
           "subunitcolor": "white"
          },
          "hoverlabel": {
           "align": "left"
          },
          "hovermode": "closest",
          "mapbox": {
           "style": "light"
          },
          "paper_bgcolor": "white",
          "plot_bgcolor": "#E5ECF6",
          "polar": {
           "angularaxis": {
            "gridcolor": "white",
            "linecolor": "white",
            "ticks": ""
           },
           "bgcolor": "#E5ECF6",
           "radialaxis": {
            "gridcolor": "white",
            "linecolor": "white",
            "ticks": ""
           }
          },
          "scene": {
           "xaxis": {
            "backgroundcolor": "#E5ECF6",
            "gridcolor": "white",
            "gridwidth": 2,
            "linecolor": "white",
            "showbackground": true,
            "ticks": "",
            "zerolinecolor": "white"
           },
           "yaxis": {
            "backgroundcolor": "#E5ECF6",
            "gridcolor": "white",
            "gridwidth": 2,
            "linecolor": "white",
            "showbackground": true,
            "ticks": "",
            "zerolinecolor": "white"
           },
           "zaxis": {
            "backgroundcolor": "#E5ECF6",
            "gridcolor": "white",
            "gridwidth": 2,
            "linecolor": "white",
            "showbackground": true,
            "ticks": "",
            "zerolinecolor": "white"
           }
          },
          "shapedefaults": {
           "line": {
            "color": "#2a3f5f"
           }
          },
          "ternary": {
           "aaxis": {
            "gridcolor": "white",
            "linecolor": "white",
            "ticks": ""
           },
           "baxis": {
            "gridcolor": "white",
            "linecolor": "white",
            "ticks": ""
           },
           "bgcolor": "#E5ECF6",
           "caxis": {
            "gridcolor": "white",
            "linecolor": "white",
            "ticks": ""
           }
          },
          "title": {
           "x": 0.05
          },
          "xaxis": {
           "automargin": true,
           "gridcolor": "white",
           "linecolor": "white",
           "ticks": "",
           "title": {
            "standoff": 15
           },
           "zerolinecolor": "white",
           "zerolinewidth": 2
          },
          "yaxis": {
           "automargin": true,
           "gridcolor": "white",
           "linecolor": "white",
           "ticks": "",
           "title": {
            "standoff": 15
           },
           "zerolinecolor": "white",
           "zerolinewidth": 2
          }
         }
        },
        "title": {
         "text": "Normalized parameter sensitivity"
        },
        "updatemenus": [
         {
          "buttons": [
           {
            "args": [
             "visible",
             [
              true,
              true,
              true,
              true
             ]
            ],
            "label": "evaluate_model",
            "method": "restyle"
           }
          ],
          "pad": {
           "t": -40
          },
          "x": 0,
          "xanchor": "left",
          "y": 1,
          "yanchor": "top"
         }
        ],
        "width": 530,
        "xaxis": {
         "tickformat": ".0%"
        }
       }
      }
     },
     "metadata": {},
     "output_type": "display_data"
    }
   ],
   "source": [
    "render(ax_client.get_feature_importances())"
   ]
  },
  {
   "cell_type": "code",
   "execution_count": 33,
   "id": "9dde8f37",
   "metadata": {},
   "outputs": [
    {
     "name": "stderr",
     "output_type": "stream",
     "text": [
      "[WARNING 03-24 09:23:11] ax.service.utils.report_utils: Column reason missing for all trials. Not appending column.\n"
     ]
    },
    {
     "data": {
      "text/html": [
       "<div>\n",
       "<style scoped>\n",
       "    .dataframe tbody tr th:only-of-type {\n",
       "        vertical-align: middle;\n",
       "    }\n",
       "\n",
       "    .dataframe tbody tr th {\n",
       "        vertical-align: top;\n",
       "    }\n",
       "\n",
       "    .dataframe thead th {\n",
       "        text-align: right;\n",
       "    }\n",
       "</style>\n",
       "<table border=\"1\" class=\"dataframe\">\n",
       "  <thead>\n",
       "    <tr style=\"text-align: right;\">\n",
       "      <th></th>\n",
       "      <th>trial_index</th>\n",
       "      <th>arm_name</th>\n",
       "      <th>trial_status</th>\n",
       "      <th>generation_method</th>\n",
       "      <th>evaluate_model</th>\n",
       "      <th>num_branch</th>\n",
       "      <th>hidden_size</th>\n",
       "      <th>hidden_depth</th>\n",
       "      <th>learning_rate</th>\n",
       "      <th>num_input</th>\n",
       "      <th>num_output</th>\n",
       "      <th>dim_output</th>\n",
       "      <th>batch_size</th>\n",
       "      <th>epochs</th>\n",
       "    </tr>\n",
       "  </thead>\n",
       "  <tbody>\n",
       "    <tr>\n",
       "      <th>0</th>\n",
       "      <td>0</td>\n",
       "      <td>0_0</td>\n",
       "      <td>COMPLETED</td>\n",
       "      <td>Sobol</td>\n",
       "      <td>0.629210</td>\n",
       "      <td>10</td>\n",
       "      <td>120</td>\n",
       "      <td>4</td>\n",
       "      <td>0.014092</td>\n",
       "      <td>100</td>\n",
       "      <td>100</td>\n",
       "      <td>1</td>\n",
       "      <td>500</td>\n",
       "      <td>200</td>\n",
       "    </tr>\n",
       "    <tr>\n",
       "      <th>1</th>\n",
       "      <td>1</td>\n",
       "      <td>1_0</td>\n",
       "      <td>COMPLETED</td>\n",
       "      <td>Sobol</td>\n",
       "      <td>6.817745</td>\n",
       "      <td>30</td>\n",
       "      <td>80</td>\n",
       "      <td>3</td>\n",
       "      <td>0.003648</td>\n",
       "      <td>100</td>\n",
       "      <td>100</td>\n",
       "      <td>1</td>\n",
       "      <td>500</td>\n",
       "      <td>200</td>\n",
       "    </tr>\n",
       "    <tr>\n",
       "      <th>2</th>\n",
       "      <td>2</td>\n",
       "      <td>2_0</td>\n",
       "      <td>COMPLETED</td>\n",
       "      <td>Sobol</td>\n",
       "      <td>436.809356</td>\n",
       "      <td>30</td>\n",
       "      <td>120</td>\n",
       "      <td>3</td>\n",
       "      <td>0.009688</td>\n",
       "      <td>100</td>\n",
       "      <td>100</td>\n",
       "      <td>1</td>\n",
       "      <td>500</td>\n",
       "      <td>200</td>\n",
       "    </tr>\n",
       "    <tr>\n",
       "      <th>3</th>\n",
       "      <td>3</td>\n",
       "      <td>3_0</td>\n",
       "      <td>COMPLETED</td>\n",
       "      <td>Sobol</td>\n",
       "      <td>8.580369</td>\n",
       "      <td>10</td>\n",
       "      <td>120</td>\n",
       "      <td>2</td>\n",
       "      <td>0.007530</td>\n",
       "      <td>100</td>\n",
       "      <td>100</td>\n",
       "      <td>1</td>\n",
       "      <td>500</td>\n",
       "      <td>200</td>\n",
       "    </tr>\n",
       "    <tr>\n",
       "      <th>4</th>\n",
       "      <td>4</td>\n",
       "      <td>4_0</td>\n",
       "      <td>COMPLETED</td>\n",
       "      <td>Sobol</td>\n",
       "      <td>199.146860</td>\n",
       "      <td>30</td>\n",
       "      <td>80</td>\n",
       "      <td>4</td>\n",
       "      <td>0.001706</td>\n",
       "      <td>100</td>\n",
       "      <td>100</td>\n",
       "      <td>1</td>\n",
       "      <td>500</td>\n",
       "      <td>200</td>\n",
       "    </tr>\n",
       "    <tr>\n",
       "      <th>...</th>\n",
       "      <td>...</td>\n",
       "      <td>...</td>\n",
       "      <td>...</td>\n",
       "      <td>...</td>\n",
       "      <td>...</td>\n",
       "      <td>...</td>\n",
       "      <td>...</td>\n",
       "      <td>...</td>\n",
       "      <td>...</td>\n",
       "      <td>...</td>\n",
       "      <td>...</td>\n",
       "      <td>...</td>\n",
       "      <td>...</td>\n",
       "      <td>...</td>\n",
       "    </tr>\n",
       "    <tr>\n",
       "      <th>95</th>\n",
       "      <td>95</td>\n",
       "      <td>95_0</td>\n",
       "      <td>COMPLETED</td>\n",
       "      <td>BoTorch</td>\n",
       "      <td>6.860256</td>\n",
       "      <td>40</td>\n",
       "      <td>40</td>\n",
       "      <td>4</td>\n",
       "      <td>0.008025</td>\n",
       "      <td>100</td>\n",
       "      <td>100</td>\n",
       "      <td>1</td>\n",
       "      <td>500</td>\n",
       "      <td>200</td>\n",
       "    </tr>\n",
       "    <tr>\n",
       "      <th>96</th>\n",
       "      <td>96</td>\n",
       "      <td>96_0</td>\n",
       "      <td>COMPLETED</td>\n",
       "      <td>BoTorch</td>\n",
       "      <td>970.015442</td>\n",
       "      <td>40</td>\n",
       "      <td>160</td>\n",
       "      <td>2</td>\n",
       "      <td>0.001903</td>\n",
       "      <td>100</td>\n",
       "      <td>100</td>\n",
       "      <td>1</td>\n",
       "      <td>500</td>\n",
       "      <td>200</td>\n",
       "    </tr>\n",
       "    <tr>\n",
       "      <th>97</th>\n",
       "      <td>97</td>\n",
       "      <td>97_0</td>\n",
       "      <td>COMPLETED</td>\n",
       "      <td>BoTorch</td>\n",
       "      <td>7.943243</td>\n",
       "      <td>20</td>\n",
       "      <td>160</td>\n",
       "      <td>3</td>\n",
       "      <td>0.007393</td>\n",
       "      <td>100</td>\n",
       "      <td>100</td>\n",
       "      <td>1</td>\n",
       "      <td>500</td>\n",
       "      <td>200</td>\n",
       "    </tr>\n",
       "    <tr>\n",
       "      <th>98</th>\n",
       "      <td>98</td>\n",
       "      <td>98_0</td>\n",
       "      <td>COMPLETED</td>\n",
       "      <td>BoTorch</td>\n",
       "      <td>2.276025</td>\n",
       "      <td>40</td>\n",
       "      <td>40</td>\n",
       "      <td>4</td>\n",
       "      <td>0.005028</td>\n",
       "      <td>100</td>\n",
       "      <td>100</td>\n",
       "      <td>1</td>\n",
       "      <td>500</td>\n",
       "      <td>200</td>\n",
       "    </tr>\n",
       "    <tr>\n",
       "      <th>99</th>\n",
       "      <td>99</td>\n",
       "      <td>99_0</td>\n",
       "      <td>COMPLETED</td>\n",
       "      <td>BoTorch</td>\n",
       "      <td>2140.747290</td>\n",
       "      <td>10</td>\n",
       "      <td>160</td>\n",
       "      <td>4</td>\n",
       "      <td>0.001000</td>\n",
       "      <td>100</td>\n",
       "      <td>100</td>\n",
       "      <td>1</td>\n",
       "      <td>500</td>\n",
       "      <td>200</td>\n",
       "    </tr>\n",
       "  </tbody>\n",
       "</table>\n",
       "<p>100 rows × 14 columns</p>\n",
       "</div>"
      ],
      "text/plain": [
       "    trial_index arm_name trial_status generation_method  evaluate_model  \\\n",
       "0             0      0_0    COMPLETED             Sobol        0.629210   \n",
       "1             1      1_0    COMPLETED             Sobol        6.817745   \n",
       "2             2      2_0    COMPLETED             Sobol      436.809356   \n",
       "3             3      3_0    COMPLETED             Sobol        8.580369   \n",
       "4             4      4_0    COMPLETED             Sobol      199.146860   \n",
       "..          ...      ...          ...               ...             ...   \n",
       "95           95     95_0    COMPLETED           BoTorch        6.860256   \n",
       "96           96     96_0    COMPLETED           BoTorch      970.015442   \n",
       "97           97     97_0    COMPLETED           BoTorch        7.943243   \n",
       "98           98     98_0    COMPLETED           BoTorch        2.276025   \n",
       "99           99     99_0    COMPLETED           BoTorch     2140.747290   \n",
       "\n",
       "    num_branch  hidden_size  hidden_depth  learning_rate  num_input  \\\n",
       "0           10          120             4       0.014092        100   \n",
       "1           30           80             3       0.003648        100   \n",
       "2           30          120             3       0.009688        100   \n",
       "3           10          120             2       0.007530        100   \n",
       "4           30           80             4       0.001706        100   \n",
       "..         ...          ...           ...            ...        ...   \n",
       "95          40           40             4       0.008025        100   \n",
       "96          40          160             2       0.001903        100   \n",
       "97          20          160             3       0.007393        100   \n",
       "98          40           40             4       0.005028        100   \n",
       "99          10          160             4       0.001000        100   \n",
       "\n",
       "    num_output  dim_output  batch_size  epochs  \n",
       "0          100           1         500     200  \n",
       "1          100           1         500     200  \n",
       "2          100           1         500     200  \n",
       "3          100           1         500     200  \n",
       "4          100           1         500     200  \n",
       "..         ...         ...         ...     ...  \n",
       "95         100           1         500     200  \n",
       "96         100           1         500     200  \n",
       "97         100           1         500     200  \n",
       "98         100           1         500     200  \n",
       "99         100           1         500     200  \n",
       "\n",
       "[100 rows x 14 columns]"
      ]
     },
     "execution_count": 33,
     "metadata": {},
     "output_type": "execute_result"
    }
   ],
   "source": [
    "ax_df = ax_client.get_trials_data_frame()\n",
    "ax_df"
   ]
  },
  {
   "cell_type": "code",
   "execution_count": 34,
   "id": "dd6868fa",
   "metadata": {},
   "outputs": [
    {
     "data": {
      "text/html": [
       "<div>\n",
       "<style scoped>\n",
       "    .dataframe tbody tr th:only-of-type {\n",
       "        vertical-align: middle;\n",
       "    }\n",
       "\n",
       "    .dataframe tbody tr th {\n",
       "        vertical-align: top;\n",
       "    }\n",
       "\n",
       "    .dataframe thead th {\n",
       "        text-align: right;\n",
       "    }\n",
       "</style>\n",
       "<table border=\"1\" class=\"dataframe\">\n",
       "  <thead>\n",
       "    <tr style=\"text-align: right;\">\n",
       "      <th></th>\n",
       "      <th>trial_index</th>\n",
       "      <th>arm_name</th>\n",
       "      <th>trial_status</th>\n",
       "      <th>generation_method</th>\n",
       "      <th>evaluate_model</th>\n",
       "      <th>num_branch</th>\n",
       "      <th>hidden_size</th>\n",
       "      <th>hidden_depth</th>\n",
       "      <th>learning_rate</th>\n",
       "      <th>num_input</th>\n",
       "      <th>num_output</th>\n",
       "      <th>dim_output</th>\n",
       "      <th>batch_size</th>\n",
       "      <th>epochs</th>\n",
       "    </tr>\n",
       "  </thead>\n",
       "  <tbody>\n",
       "    <tr>\n",
       "      <th>90</th>\n",
       "      <td>90</td>\n",
       "      <td>90_0</td>\n",
       "      <td>COMPLETED</td>\n",
       "      <td>BoTorch</td>\n",
       "      <td>0.216821</td>\n",
       "      <td>30</td>\n",
       "      <td>160</td>\n",
       "      <td>4</td>\n",
       "      <td>0.004755</td>\n",
       "      <td>100</td>\n",
       "      <td>100</td>\n",
       "      <td>1</td>\n",
       "      <td>500</td>\n",
       "      <td>200</td>\n",
       "    </tr>\n",
       "    <tr>\n",
       "      <th>41</th>\n",
       "      <td>41</td>\n",
       "      <td>41_0</td>\n",
       "      <td>COMPLETED</td>\n",
       "      <td>BoTorch</td>\n",
       "      <td>0.296143</td>\n",
       "      <td>20</td>\n",
       "      <td>120</td>\n",
       "      <td>4</td>\n",
       "      <td>0.008640</td>\n",
       "      <td>100</td>\n",
       "      <td>100</td>\n",
       "      <td>1</td>\n",
       "      <td>500</td>\n",
       "      <td>200</td>\n",
       "    </tr>\n",
       "    <tr>\n",
       "      <th>40</th>\n",
       "      <td>40</td>\n",
       "      <td>40_0</td>\n",
       "      <td>COMPLETED</td>\n",
       "      <td>BoTorch</td>\n",
       "      <td>0.367331</td>\n",
       "      <td>20</td>\n",
       "      <td>120</td>\n",
       "      <td>4</td>\n",
       "      <td>0.008002</td>\n",
       "      <td>100</td>\n",
       "      <td>100</td>\n",
       "      <td>1</td>\n",
       "      <td>500</td>\n",
       "      <td>200</td>\n",
       "    </tr>\n",
       "    <tr>\n",
       "      <th>72</th>\n",
       "      <td>72</td>\n",
       "      <td>72_0</td>\n",
       "      <td>COMPLETED</td>\n",
       "      <td>BoTorch</td>\n",
       "      <td>0.493383</td>\n",
       "      <td>30</td>\n",
       "      <td>120</td>\n",
       "      <td>4</td>\n",
       "      <td>0.005599</td>\n",
       "      <td>100</td>\n",
       "      <td>100</td>\n",
       "      <td>1</td>\n",
       "      <td>500</td>\n",
       "      <td>200</td>\n",
       "    </tr>\n",
       "    <tr>\n",
       "      <th>36</th>\n",
       "      <td>36</td>\n",
       "      <td>36_0</td>\n",
       "      <td>COMPLETED</td>\n",
       "      <td>BoTorch</td>\n",
       "      <td>0.573076</td>\n",
       "      <td>10</td>\n",
       "      <td>120</td>\n",
       "      <td>4</td>\n",
       "      <td>0.008450</td>\n",
       "      <td>100</td>\n",
       "      <td>100</td>\n",
       "      <td>1</td>\n",
       "      <td>500</td>\n",
       "      <td>200</td>\n",
       "    </tr>\n",
       "    <tr>\n",
       "      <th>...</th>\n",
       "      <td>...</td>\n",
       "      <td>...</td>\n",
       "      <td>...</td>\n",
       "      <td>...</td>\n",
       "      <td>...</td>\n",
       "      <td>...</td>\n",
       "      <td>...</td>\n",
       "      <td>...</td>\n",
       "      <td>...</td>\n",
       "      <td>...</td>\n",
       "      <td>...</td>\n",
       "      <td>...</td>\n",
       "      <td>...</td>\n",
       "      <td>...</td>\n",
       "    </tr>\n",
       "    <tr>\n",
       "      <th>77</th>\n",
       "      <td>77</td>\n",
       "      <td>77_0</td>\n",
       "      <td>COMPLETED</td>\n",
       "      <td>BoTorch</td>\n",
       "      <td>1900.860015</td>\n",
       "      <td>10</td>\n",
       "      <td>160</td>\n",
       "      <td>2</td>\n",
       "      <td>0.001294</td>\n",
       "      <td>100</td>\n",
       "      <td>100</td>\n",
       "      <td>1</td>\n",
       "      <td>500</td>\n",
       "      <td>200</td>\n",
       "    </tr>\n",
       "    <tr>\n",
       "      <th>99</th>\n",
       "      <td>99</td>\n",
       "      <td>99_0</td>\n",
       "      <td>COMPLETED</td>\n",
       "      <td>BoTorch</td>\n",
       "      <td>2140.747290</td>\n",
       "      <td>10</td>\n",
       "      <td>160</td>\n",
       "      <td>4</td>\n",
       "      <td>0.001000</td>\n",
       "      <td>100</td>\n",
       "      <td>100</td>\n",
       "      <td>1</td>\n",
       "      <td>500</td>\n",
       "      <td>200</td>\n",
       "    </tr>\n",
       "    <tr>\n",
       "      <th>65</th>\n",
       "      <td>65</td>\n",
       "      <td>65_0</td>\n",
       "      <td>COMPLETED</td>\n",
       "      <td>BoTorch</td>\n",
       "      <td>2202.260960</td>\n",
       "      <td>40</td>\n",
       "      <td>40</td>\n",
       "      <td>4</td>\n",
       "      <td>0.001000</td>\n",
       "      <td>100</td>\n",
       "      <td>100</td>\n",
       "      <td>1</td>\n",
       "      <td>500</td>\n",
       "      <td>200</td>\n",
       "    </tr>\n",
       "    <tr>\n",
       "      <th>5</th>\n",
       "      <td>5</td>\n",
       "      <td>5_0</td>\n",
       "      <td>COMPLETED</td>\n",
       "      <td>Sobol</td>\n",
       "      <td>2285.499591</td>\n",
       "      <td>10</td>\n",
       "      <td>40</td>\n",
       "      <td>2</td>\n",
       "      <td>0.019147</td>\n",
       "      <td>100</td>\n",
       "      <td>100</td>\n",
       "      <td>1</td>\n",
       "      <td>500</td>\n",
       "      <td>200</td>\n",
       "    </tr>\n",
       "    <tr>\n",
       "      <th>60</th>\n",
       "      <td>60</td>\n",
       "      <td>60_0</td>\n",
       "      <td>COMPLETED</td>\n",
       "      <td>BoTorch</td>\n",
       "      <td>2422.376350</td>\n",
       "      <td>10</td>\n",
       "      <td>160</td>\n",
       "      <td>4</td>\n",
       "      <td>0.020000</td>\n",
       "      <td>100</td>\n",
       "      <td>100</td>\n",
       "      <td>1</td>\n",
       "      <td>500</td>\n",
       "      <td>200</td>\n",
       "    </tr>\n",
       "  </tbody>\n",
       "</table>\n",
       "<p>100 rows × 14 columns</p>\n",
       "</div>"
      ],
      "text/plain": [
       "    trial_index arm_name trial_status generation_method  evaluate_model  \\\n",
       "90           90     90_0    COMPLETED           BoTorch        0.216821   \n",
       "41           41     41_0    COMPLETED           BoTorch        0.296143   \n",
       "40           40     40_0    COMPLETED           BoTorch        0.367331   \n",
       "72           72     72_0    COMPLETED           BoTorch        0.493383   \n",
       "36           36     36_0    COMPLETED           BoTorch        0.573076   \n",
       "..          ...      ...          ...               ...             ...   \n",
       "77           77     77_0    COMPLETED           BoTorch     1900.860015   \n",
       "99           99     99_0    COMPLETED           BoTorch     2140.747290   \n",
       "65           65     65_0    COMPLETED           BoTorch     2202.260960   \n",
       "5             5      5_0    COMPLETED             Sobol     2285.499591   \n",
       "60           60     60_0    COMPLETED           BoTorch     2422.376350   \n",
       "\n",
       "    num_branch  hidden_size  hidden_depth  learning_rate  num_input  \\\n",
       "90          30          160             4       0.004755        100   \n",
       "41          20          120             4       0.008640        100   \n",
       "40          20          120             4       0.008002        100   \n",
       "72          30          120             4       0.005599        100   \n",
       "36          10          120             4       0.008450        100   \n",
       "..         ...          ...           ...            ...        ...   \n",
       "77          10          160             2       0.001294        100   \n",
       "99          10          160             4       0.001000        100   \n",
       "65          40           40             4       0.001000        100   \n",
       "5           10           40             2       0.019147        100   \n",
       "60          10          160             4       0.020000        100   \n",
       "\n",
       "    num_output  dim_output  batch_size  epochs  \n",
       "90         100           1         500     200  \n",
       "41         100           1         500     200  \n",
       "40         100           1         500     200  \n",
       "72         100           1         500     200  \n",
       "36         100           1         500     200  \n",
       "..         ...         ...         ...     ...  \n",
       "77         100           1         500     200  \n",
       "99         100           1         500     200  \n",
       "65         100           1         500     200  \n",
       "5          100           1         500     200  \n",
       "60         100           1         500     200  \n",
       "\n",
       "[100 rows x 14 columns]"
      ]
     },
     "execution_count": 34,
     "metadata": {},
     "output_type": "execute_result"
    }
   ],
   "source": [
    "# sort dataframe by evaluate_model\n",
    "ax_df_sorted = ax_df.sort_values(\"evaluate_model\")\n",
    "ax_df_sorted"
   ]
  },
  {
   "cell_type": "code",
   "execution_count": 36,
   "id": "97012226",
   "metadata": {},
   "outputs": [
    {
     "data": {
      "text/plain": [
       "(99,\n",
       " {'num_branch': 20,\n",
       "  'hidden_size': 120,\n",
       "  'hidden_depth': 4,\n",
       "  'learning_rate': 0.005548637705383897,\n",
       "  'num_input': 100,\n",
       "  'num_output': 100,\n",
       "  'dim_output': 1,\n",
       "  'batch_size': 500,\n",
       "  'epochs': 200},\n",
       " ({'evaluate_model': 0.4888443210730218},\n",
       "  {'evaluate_model': {'evaluate_model': 0.8415911472557052}}))"
      ]
     },
     "execution_count": 36,
     "metadata": {},
     "output_type": "execute_result"
    }
   ],
   "source": [
    "ax_client.get_best_trial()"
   ]
  },
  {
   "cell_type": "code",
   "execution_count": 40,
   "id": "20c0114a",
   "metadata": {},
   "outputs": [
    {
     "data": {
      "text/html": [
       "<div>\n",
       "<style scoped>\n",
       "    .dataframe tbody tr th:only-of-type {\n",
       "        vertical-align: middle;\n",
       "    }\n",
       "\n",
       "    .dataframe tbody tr th {\n",
       "        vertical-align: top;\n",
       "    }\n",
       "\n",
       "    .dataframe thead th {\n",
       "        text-align: right;\n",
       "    }\n",
       "</style>\n",
       "<table border=\"1\" class=\"dataframe\">\n",
       "  <thead>\n",
       "    <tr style=\"text-align: right;\">\n",
       "      <th></th>\n",
       "      <th>trial_index</th>\n",
       "      <th>arm_name</th>\n",
       "      <th>trial_status</th>\n",
       "      <th>generation_method</th>\n",
       "      <th>evaluate_model</th>\n",
       "      <th>num_branch</th>\n",
       "      <th>hidden_size</th>\n",
       "      <th>hidden_depth</th>\n",
       "      <th>learning_rate</th>\n",
       "      <th>num_input</th>\n",
       "      <th>num_output</th>\n",
       "      <th>dim_output</th>\n",
       "      <th>batch_size</th>\n",
       "      <th>epochs</th>\n",
       "    </tr>\n",
       "  </thead>\n",
       "  <tbody>\n",
       "    <tr>\n",
       "      <th>20</th>\n",
       "      <td>20</td>\n",
       "      <td>20_0</td>\n",
       "      <td>COMPLETED</td>\n",
       "      <td>BoTorch</td>\n",
       "      <td>1.276865</td>\n",
       "      <td>20</td>\n",
       "      <td>120</td>\n",
       "      <td>4</td>\n",
       "      <td>0.005549</td>\n",
       "      <td>100</td>\n",
       "      <td>100</td>\n",
       "      <td>1</td>\n",
       "      <td>500</td>\n",
       "      <td>200</td>\n",
       "    </tr>\n",
       "    <tr>\n",
       "      <th>72</th>\n",
       "      <td>72</td>\n",
       "      <td>72_0</td>\n",
       "      <td>COMPLETED</td>\n",
       "      <td>BoTorch</td>\n",
       "      <td>0.493383</td>\n",
       "      <td>30</td>\n",
       "      <td>120</td>\n",
       "      <td>4</td>\n",
       "      <td>0.005599</td>\n",
       "      <td>100</td>\n",
       "      <td>100</td>\n",
       "      <td>1</td>\n",
       "      <td>500</td>\n",
       "      <td>200</td>\n",
       "    </tr>\n",
       "    <tr>\n",
       "      <th>82</th>\n",
       "      <td>82</td>\n",
       "      <td>82_0</td>\n",
       "      <td>COMPLETED</td>\n",
       "      <td>BoTorch</td>\n",
       "      <td>1.018398</td>\n",
       "      <td>30</td>\n",
       "      <td>120</td>\n",
       "      <td>4</td>\n",
       "      <td>0.005525</td>\n",
       "      <td>100</td>\n",
       "      <td>100</td>\n",
       "      <td>1</td>\n",
       "      <td>500</td>\n",
       "      <td>200</td>\n",
       "    </tr>\n",
       "  </tbody>\n",
       "</table>\n",
       "</div>"
      ],
      "text/plain": [
       "    trial_index arm_name trial_status generation_method  evaluate_model  \\\n",
       "20           20     20_0    COMPLETED           BoTorch        1.276865   \n",
       "72           72     72_0    COMPLETED           BoTorch        0.493383   \n",
       "82           82     82_0    COMPLETED           BoTorch        1.018398   \n",
       "\n",
       "    num_branch  hidden_size  hidden_depth  learning_rate  num_input  \\\n",
       "20          20          120             4       0.005549        100   \n",
       "72          30          120             4       0.005599        100   \n",
       "82          30          120             4       0.005525        100   \n",
       "\n",
       "    num_output  dim_output  batch_size  epochs  \n",
       "20         100           1         500     200  \n",
       "72         100           1         500     200  \n",
       "82         100           1         500     200  "
      ]
     },
     "execution_count": 40,
     "metadata": {},
     "output_type": "execute_result"
    }
   ],
   "source": [
    "ax_df[(ax_df[\"learning_rate\"] > 0.0055) & (ax_df[\"learning_rate\"] < 0.0056)]"
   ]
  },
  {
   "cell_type": "code",
   "execution_count": 43,
   "id": "3119eb41",
   "metadata": {},
   "outputs": [
    {
     "data": {
      "text/plain": [
       "0.005548637705383897"
      ]
     },
     "execution_count": 43,
     "metadata": {},
     "output_type": "execute_result"
    }
   ],
   "source": [
    "ax_df.iloc[20][\"learning_rate\"]"
   ]
  }
 ],
 "metadata": {
  "kernelspec": {
   "display_name": "Python 3 (ipykernel)",
   "language": "python",
   "name": "python3"
  },
  "language_info": {
   "codemirror_mode": {
    "name": "ipython",
    "version": 3
   },
   "file_extension": ".py",
   "mimetype": "text/x-python",
   "name": "python",
   "nbconvert_exporter": "python",
   "pygments_lexer": "ipython3",
   "version": "3.11.8"
  }
 },
 "nbformat": 4,
 "nbformat_minor": 5
}
